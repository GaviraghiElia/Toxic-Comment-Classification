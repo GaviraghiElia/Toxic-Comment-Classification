{
  "nbformat": 4,
  "nbformat_minor": 0,
  "metadata": {
    "colab": {
      "provenance": [],
      "collapsed_sections": [
        "g7j0qNQqL5tw",
        "kLgFiknoL81Z",
        "MZ-48qpAv_P8",
        "fxEj_fFaLbEm",
        "VsytBPEoLcea",
        "StMS1LojLd1p",
        "aKsWurdaLf4n",
        "TMdnIdgrMDxI",
        "9fjQEZysDxLc",
        "ku0BVXIDs7Fq",
        "CElfBoZViKw4",
        "-TLE3VL7igL0",
        "lmlYp8YOMF1m",
        "5gi3FlvoWuYI",
        "gR67bxZOK_cr",
        "iQPgPNjCLBem",
        "pzl-_tJTWK0G",
        "IHVCsW5FVQXQ",
        "_jex9X7wKu_A",
        "HudVqS1qL1yd",
        "k-qehqcRaZ_R",
        "X40AH6G7L_gk",
        "hZ4JbLCMjAug",
        "vtbRxNyWNfLc",
        "9Z9KmnU-Njmm",
        "Q9CJ74VJNq73",
        "vHFeSgVlazYt",
        "ZdFgpU-0Wap3",
        "CUz9Sy7zWhcP",
        "OdyScoqLWm_1",
        "ZFSkJ8N4Wvst",
        "Dvbo6vj9mfFD",
        "XyXQXHy_7m7R",
        "mkctBWlT7sfr",
        "uzYgwU-J7p9Q",
        "4R43hwSEfhhR",
        "Bv06_RIirbgQ",
        "hnL6ykcWrcyi",
        "uqFO-WmH-gVk",
        "fsNBPGkq-RSr",
        "Pe6AEw4GsBwU"
      ],
      "gpuType": "T4"
    },
    "kernelspec": {
      "name": "python3",
      "display_name": "Python 3"
    },
    "language_info": {
      "name": "python"
    },
    "accelerator": "GPU"
  },
  "cells": [
    {
      "cell_type": "markdown",
      "source": [
        "# Preliminary operations"
      ],
      "metadata": {
        "id": "g7j0qNQqL5tw"
      }
    },
    {
      "cell_type": "markdown",
      "source": [
        "## Import dependencies"
      ],
      "metadata": {
        "id": "kLgFiknoL81Z"
      }
    },
    {
      "cell_type": "markdown",
      "source": [
        "### Pip"
      ],
      "metadata": {
        "id": "MZ-48qpAv_P8"
      }
    },
    {
      "cell_type": "code",
      "source": [
        "!pip install keras-tuner --upgrade"
      ],
      "metadata": {
        "id": "LBtVuz7KwBFX",
        "colab": {
          "base_uri": "https://localhost:8080/"
        },
        "outputId": "5abebe24-f005-4c87-9ea2-c4bc722fa8da"
      },
      "execution_count": 1,
      "outputs": [
        {
          "output_type": "stream",
          "name": "stdout",
          "text": [
            "Collecting keras-tuner\n",
            "  Downloading keras_tuner-1.4.6-py3-none-any.whl (128 kB)\n",
            "\u001b[?25l     \u001b[90m━━━━━━━━━━━━━━━━━━━━━━━━━━━━━━━━━━━━━━━━\u001b[0m \u001b[32m0.0/128.9 kB\u001b[0m \u001b[31m?\u001b[0m eta \u001b[36m-:--:--\u001b[0m\r\u001b[2K     \u001b[91m━━━━━━━━━━━━\u001b[0m\u001b[91m╸\u001b[0m\u001b[90m━━━━━━━━━━━━━━━━━━━━━━━━━━━\u001b[0m \u001b[32m41.0/128.9 kB\u001b[0m \u001b[31m990.2 kB/s\u001b[0m eta \u001b[36m0:00:01\u001b[0m\r\u001b[2K     \u001b[91m━━━━━━━━━━━━━━━━━━━━━━━━━━━━━━━━━━━━━━\u001b[0m\u001b[90m╺\u001b[0m\u001b[90m━\u001b[0m \u001b[32m122.9/128.9 kB\u001b[0m \u001b[31m1.7 MB/s\u001b[0m eta \u001b[36m0:00:01\u001b[0m\r\u001b[2K     \u001b[90m━━━━━━━━━━━━━━━━━━━━━━━━━━━━━━━━━━━━━━━━\u001b[0m \u001b[32m128.9/128.9 kB\u001b[0m \u001b[31m1.7 MB/s\u001b[0m eta \u001b[36m0:00:00\u001b[0m\n",
            "\u001b[?25hRequirement already satisfied: keras in /usr/local/lib/python3.10/dist-packages (from keras-tuner) (2.15.0)\n",
            "Requirement already satisfied: packaging in /usr/local/lib/python3.10/dist-packages (from keras-tuner) (23.2)\n",
            "Requirement already satisfied: requests in /usr/local/lib/python3.10/dist-packages (from keras-tuner) (2.31.0)\n",
            "Collecting kt-legacy (from keras-tuner)\n",
            "  Downloading kt_legacy-1.0.5-py3-none-any.whl (9.6 kB)\n",
            "Requirement already satisfied: charset-normalizer<4,>=2 in /usr/local/lib/python3.10/dist-packages (from requests->keras-tuner) (3.3.2)\n",
            "Requirement already satisfied: idna<4,>=2.5 in /usr/local/lib/python3.10/dist-packages (from requests->keras-tuner) (3.6)\n",
            "Requirement already satisfied: urllib3<3,>=1.21.1 in /usr/local/lib/python3.10/dist-packages (from requests->keras-tuner) (2.0.7)\n",
            "Requirement already satisfied: certifi>=2017.4.17 in /usr/local/lib/python3.10/dist-packages (from requests->keras-tuner) (2023.11.17)\n",
            "Installing collected packages: kt-legacy, keras-tuner\n",
            "Successfully installed keras-tuner-1.4.6 kt-legacy-1.0.5\n"
          ]
        }
      ]
    },
    {
      "cell_type": "markdown",
      "source": [
        "### Drive"
      ],
      "metadata": {
        "id": "fxEj_fFaLbEm"
      }
    },
    {
      "cell_type": "code",
      "source": [
        "from google.colab import drive\n",
        "drive.mount('/content/drive')"
      ],
      "metadata": {
        "id": "QynjXdVqZMA0",
        "colab": {
          "base_uri": "https://localhost:8080/"
        },
        "outputId": "8fb82a8d-cdb9-487d-f0f7-de8d36af7b3f"
      },
      "execution_count": 2,
      "outputs": [
        {
          "output_type": "stream",
          "name": "stdout",
          "text": [
            "Mounted at /content/drive\n"
          ]
        }
      ]
    },
    {
      "cell_type": "markdown",
      "source": [
        "### Import"
      ],
      "metadata": {
        "id": "VsytBPEoLcea"
      }
    },
    {
      "cell_type": "code",
      "source": [
        "import numpy as np\n",
        "import pandas as pd\n",
        "import matplotlib.pyplot as plt\n",
        "import tensorflow as tf\n",
        "import os\n",
        "import re\n",
        "import keras_tuner"
      ],
      "metadata": {
        "id": "yfsCXRRBMKAJ"
      },
      "execution_count": 3,
      "outputs": []
    },
    {
      "cell_type": "markdown",
      "source": [
        "### Keras"
      ],
      "metadata": {
        "id": "StMS1LojLd1p"
      }
    },
    {
      "cell_type": "code",
      "source": [
        "from tensorflow import keras\n",
        "\n",
        "# model\n",
        "from keras.layers import Input, Embedding, Bidirectional, GRU, LSTM, SpatialDropout1D, Dropout\n",
        "from keras.layers import GlobalAveragePooling1D, GlobalMaxPooling1D, concatenate, Dense, Conv1D, GlobalMaxPool1D, GlobalAveragePooling1D, SpatialDropout1D, Concatenate\n",
        "from keras.models import Model, load_model\n",
        "from keras.metrics import Precision, Recall, AUC\n",
        "from keras.callbacks import ModelCheckpoint\n",
        "\n",
        "# Tokenization\n",
        "from keras.preprocessing import text, sequence\n",
        "from keras.preprocessing.text import Tokenizer\n",
        "from keras.preprocessing.sequence import pad_sequences"
      ],
      "metadata": {
        "id": "c2P3rg6chgK3"
      },
      "execution_count": 4,
      "outputs": []
    },
    {
      "cell_type": "code",
      "source": [
        "keras.utils.set_random_seed(42)\n",
        "precision_metric = Precision()\n",
        "recall_metric = Recall()\n",
        "auc_metric = AUC()"
      ],
      "metadata": {
        "id": "QiwPuez0Lkt8"
      },
      "execution_count": 5,
      "outputs": []
    },
    {
      "cell_type": "markdown",
      "source": [
        "### Sklearn"
      ],
      "metadata": {
        "id": "aKsWurdaLf4n"
      }
    },
    {
      "cell_type": "code",
      "source": [
        "from sklearn.metrics import classification_report\n",
        "from sklearn.utils.class_weight import compute_class_weight\n",
        "from sklearn.model_selection import train_test_split"
      ],
      "metadata": {
        "id": "o8MK5u9FI4dD"
      },
      "execution_count": 6,
      "outputs": []
    },
    {
      "cell_type": "markdown",
      "source": [
        "## Def functions"
      ],
      "metadata": {
        "id": "TMdnIdgrMDxI"
      }
    },
    {
      "cell_type": "markdown",
      "source": [
        "### F1-Score\n"
      ],
      "metadata": {
        "id": "9fjQEZysDxLc"
      }
    },
    {
      "cell_type": "code",
      "source": [
        "from keras.metrics import Precision, Recall, AUC, F1Score\n",
        "from keras.metrics import Metric\n",
        "import keras.backend as K\n",
        "\n",
        "class F1Score(Metric):\n",
        "    def __init__(self, name='f1_score', **kwargs):\n",
        "        super(F1Score, self).__init__(name=name, **kwargs)\n",
        "        self.true_positives = self.add_weight(name='true_positives', initializer='zeros')\n",
        "        self.false_positives = self.add_weight(name='false_positives', initializer='zeros')\n",
        "        self.false_negatives = self.add_weight(name='false_negatives', initializer='zeros')\n",
        "\n",
        "    def update_state(self, y_true, y_pred, sample_weight=None):\n",
        "        y_true = K.cast(y_true, dtype='float32')\n",
        "        y_pred = K.cast(K.round(y_pred), dtype='float32')\n",
        "\n",
        "        true_positives = K.sum(y_true * y_pred)\n",
        "        false_positives = K.sum(K.clip(y_pred - y_true, 0, 1))\n",
        "        false_negatives = K.sum(K.clip(y_true - y_pred, 0, 1))\n",
        "\n",
        "        self.true_positives.assign_add(true_positives)\n",
        "        self.false_positives.assign_add(false_positives)\n",
        "        self.false_negatives.assign_add(false_negatives)\n",
        "\n",
        "    def result(self):\n",
        "        precision = self.true_positives / (self.true_positives + self.false_positives + K.epsilon())\n",
        "        recall = self.true_positives / (self.true_positives + self.false_negatives + K.epsilon())\n",
        "        f1 = 2 * (precision * recall) / (precision + recall + K.epsilon())\n",
        "        return K.cast(f1, dtype='float32')\n",
        "\n",
        "f1_metric = F1Score()"
      ],
      "metadata": {
        "id": "vl82hCJS2Sk_"
      },
      "execution_count": 7,
      "outputs": []
    },
    {
      "cell_type": "markdown",
      "source": [
        "### Plot"
      ],
      "metadata": {
        "id": "ku0BVXIDs7Fq"
      }
    },
    {
      "cell_type": "code",
      "source": [
        "import matplotlib.pyplot as plt\n",
        "\n",
        "def plot_history(history):\n",
        "    # Addestramento vs. Validazione Accuracy\n",
        "    plt.figure(figsize=(12, 6))\n",
        "    plt.subplot(1, 2, 1)\n",
        "    plt.plot(history.history['accuracy'], label='Train Accuracy')\n",
        "    #plt.plot(history.history['f1_score'], label='Train f1_score')\n",
        "    plt.plot(history.history['precision'], label='Train precision')\n",
        "    plt.plot(history.history['recall'], label='Train recall')\n",
        "    plt.plot(history.history['auc'], label='Train AUC')\n",
        "    plt.xlabel('Epoch')\n",
        "    plt.ylabel('Score Training')\n",
        "    plt.legend()\n",
        "\n",
        "    # Addestramento vs. Validazione Loss\n",
        "    plt.subplot(1, 2, 2)\n",
        "    plt.plot(history.history['val_accuracy'], label='Val Accuracy')\n",
        "    #plt.plot(history.history['val_f1_score'], label='Val f1_score')\n",
        "    plt.plot(history.history['val_precision'], label='Val precision')\n",
        "    plt.plot(history.history['val_recall'], label='Val recall')\n",
        "    plt.plot(history.history['val_auc'], label='Val AUC')\n",
        "    plt.xlabel('Epoch')\n",
        "    plt.ylabel('Score Validation')\n",
        "    plt.legend()\n",
        "\n",
        "    plt.tight_layout()\n",
        "    plt.show()"
      ],
      "metadata": {
        "id": "LNl7S5w_s1kb"
      },
      "execution_count": 8,
      "outputs": []
    },
    {
      "cell_type": "markdown",
      "source": [
        "### cleaning text"
      ],
      "metadata": {
        "id": "CElfBoZViKw4"
      }
    },
    {
      "cell_type": "markdown",
      "source": [
        "#### pro user"
      ],
      "metadata": {
        "id": "-TLE3VL7igL0"
      }
    },
    {
      "cell_type": "code",
      "source": [
        "def clean_text(text):\n",
        "    text = text.lower()\n",
        "    text = re.sub(r\"what's\", \"what is \", text)\n",
        "    text = re.sub(r\"\\'s\", \" \", text)\n",
        "    text = re.sub(r\"\\'ve\", \" have \", text)\n",
        "    text = re.sub(r\"can't\", \"can not \", text)\n",
        "    text = re.sub(r\"n't\", \" not \", text)\n",
        "    text = re.sub(r\"i'm\", \"i am \", text)\n",
        "    text = re.sub(r\"\\'re\", \" are \", text)\n",
        "    text = re.sub(r\"\\'d\", \" would \", text)\n",
        "    text = re.sub(r\"\\'ll\", \" will \", text)\n",
        "    text = re.sub(r\"\\'scuse\", \" excuse \", text)\n",
        "    text = re.sub('\\W', ' ', text)\n",
        "    text = re.sub('\\s+', ' ', text)\n",
        "    text = re.sub(r\"he's\", \"he is\", text)\n",
        "    text = re.sub(r\"there's\", \"there is\", text)\n",
        "    text = re.sub(r\"We're\", \"We are\", text)\n",
        "    text = re.sub(r\"That's\", \"That is\", text)\n",
        "    text = re.sub(r\"won't\", \"will not\", text)\n",
        "    text = re.sub(r\"they're\", \"they are\", text)\n",
        "    text = re.sub(r\"Can't\", \"Cannot\", text)\n",
        "    text = re.sub(r\"wasn't\", \"was not\", text)\n",
        "    text = re.sub(r\"don\\x89Ûªt\", \"do not\", text)\n",
        "    text = re.sub(r\"aren't\", \"are not\", text)\n",
        "    text = re.sub(r\"isn't\", \"is not\", text)\n",
        "    text = re.sub(r\"What's\", \"What is\", text)\n",
        "    text = re.sub(r\"haven't\", \"have not\", text)\n",
        "    text = re.sub(r\"hasn't\", \"has not\", text)\n",
        "    text = re.sub(r\"There's\", \"There is\", text)\n",
        "    text = re.sub(r\"He's\", \"He is\", text)\n",
        "    text = re.sub(r\"It's\", \"It is\", text)\n",
        "    text = re.sub(r\"You're\", \"You are\", text)\n",
        "    text = re.sub(r\"I'M\", \"I am\", text)\n",
        "    text = re.sub(r\"shouldn't\", \"should not\", text)\n",
        "    text = re.sub(r\"wouldn't\", \"would not\", text)\n",
        "    text = re.sub(r\"i'm\", \"I am\", text)\n",
        "    text = re.sub(r\"I\\x89Ûªm\", \"I am\", text)\n",
        "    text = re.sub(r\"I'm\", \"I am\", text)\n",
        "    text = re.sub(r\"Isn't\", \"is not\", text)\n",
        "    text = re.sub(r\"Here's\", \"Here is\", text)\n",
        "    text = re.sub(r\"you've\", \"you have\", text)\n",
        "    text = re.sub(r\"you\\x89Ûªve\", \"you have\", text)\n",
        "    text = re.sub(r\"we're\", \"we are\", text)\n",
        "    text = re.sub(r\"what's\", \"what is\", text)\n",
        "    text = re.sub(r\"couldn't\", \"could not\", text)\n",
        "    text = re.sub(r\"we've\", \"we have\", text)\n",
        "    text = re.sub(r\"it\\x89Ûªs\", \"it is\", text)\n",
        "    text = re.sub(r\"doesn\\x89Ûªt\", \"does not\", text)\n",
        "    text = re.sub(r\"It\\x89Ûªs\", \"It is\", text)\n",
        "    text = re.sub(r\"Here\\x89Ûªs\", \"Here is\", text)\n",
        "    text = re.sub(r\"who's\", \"who is\", text)\n",
        "    text = re.sub(r\"I\\x89Ûªve\", \"I have\", text)\n",
        "    text = re.sub(r\"y'all\", \"you all\", text)\n",
        "    text = re.sub(r\"can\\x89Ûªt\", \"cannot\", text)\n",
        "    text = re.sub(r\"would've\", \"would have\", text)\n",
        "    text = re.sub(r\"it'll\", \"it will\", text)\n",
        "    text = re.sub(r\"we'll\", \"we will\", text)\n",
        "    text = re.sub(r\"wouldn\\x89Ûªt\", \"would not\", text)\n",
        "    text = re.sub(r\"We've\", \"We have\", text)\n",
        "    text = re.sub(r\"he'll\", \"he will\", text)\n",
        "    text = re.sub(r\"Y'all\", \"You all\", text)\n",
        "    text = re.sub(r\"Weren't\", \"Were not\", text)\n",
        "    text = re.sub(r\"Didn't\", \"Did not\", text)\n",
        "    text = re.sub(r\"they'll\", \"they will\", text)\n",
        "    text = re.sub(r\"they'd\", \"they would\", text)\n",
        "    text = re.sub(r\"DON'T\", \"DO NOT\", text)\n",
        "    text = re.sub(r\"That\\x89Ûªs\", \"That is\", text)\n",
        "    text = re.sub(r\"they've\", \"they have\", text)\n",
        "    text = re.sub(r\"i'd\", \"I would\", text)\n",
        "    text = re.sub(r\"should've\", \"should have\", text)\n",
        "    text = re.sub(r\"You\\x89Ûªre\", \"You are\", text)\n",
        "    text = re.sub(r\"where's\", \"where is\", text)\n",
        "    text = re.sub(r\"Don\\x89Ûªt\", \"Do not\", text)\n",
        "    text = re.sub(r\"we'd\", \"we would\", text)\n",
        "    text = re.sub(r\"i'll\", \"I will\", text)\n",
        "    text = re.sub(r\"weren't\", \"were not\", text)\n",
        "    text = re.sub(r\"They're\", \"They are\", text)\n",
        "    text = re.sub(r\"Can\\x89Ûªt\", \"Cannot\", text)\n",
        "    text = re.sub(r\"you\\x89Ûªll\", \"you will\", text)\n",
        "    text = re.sub(r\"I\\x89Ûªd\", \"I would\", text)\n",
        "    text = re.sub(r\"let's\", \"let us\", text)\n",
        "    text = re.sub(r\"it's\", \"it is\", text)\n",
        "    text = re.sub(r\"can't\", \"cannot\", text)\n",
        "    text = re.sub(r\"don't\", \"do not\", text)\n",
        "    text = re.sub(r\"you're\", \"you are\", text)\n",
        "    text = re.sub(r\"i've\", \"I have\", text)\n",
        "    text = re.sub(r\"that's\", \"that is\", text)\n",
        "    text = re.sub(r\"i'll\", \"I will\", text)\n",
        "    text = re.sub(r\"doesn't\", \"does not\", text)\n",
        "    text = re.sub(r\"i'd\", \"I would\", text)\n",
        "    text = re.sub(r\"didn't\", \"did not\", text)\n",
        "    text = re.sub(r\"ain't\", \"am not\", text)\n",
        "    text = re.sub(r\"you'll\", \"you will\", text)\n",
        "    text = re.sub(r\"I've\", \"I have\", text)\n",
        "    text = re.sub(r\"Don't\", \"do not\", text)\n",
        "    text = re.sub(r\"I'll\", \"I will\", text)\n",
        "    text = re.sub(r\"I'd\", \"I would\", text)\n",
        "    text = re.sub(r\"Let's\", \"Let us\", text)\n",
        "    text = re.sub(r\"you'd\", \"You would\", text)\n",
        "    text = re.sub(r\"It's\", \"It is\", text)\n",
        "    text = re.sub(r\"Ain't\", \"am not\", text)\n",
        "    text = re.sub(r\"Haven't\", \"Have not\", text)\n",
        "    text = re.sub(r\"Could've\", \"Could have\", text)\n",
        "    text = re.sub(r\"youve\", \"you have\", text)\n",
        "    text = re.sub(r\"donå«t\", \"do not\", text)\n",
        "    text = re.sub(r'''(?i)\\b((?:https?://|www\\d{0,3}[.]|[a-z0-9.\\-]+[.][a-z]{2,4}/)(?:[^\\s()<>]+|\\(([^\\s()<>]+|(\\([^\\s()<>]+\\)))*\\))+(?:\\(([^\\s()<>]+|(\\([^\\s()<>]+\\)))*\\)|[^\\s`!()\\[\\]{};:'\".,<>?«»“”‘’]))''', \" \", text)\n",
        "    text = text.strip(' ')\n",
        "    return text"
      ],
      "metadata": {
        "id": "zBhFtegdMKoP"
      },
      "execution_count": 9,
      "outputs": []
    },
    {
      "cell_type": "markdown",
      "source": [
        "# Dataset"
      ],
      "metadata": {
        "id": "lmlYp8YOMF1m"
      }
    },
    {
      "cell_type": "markdown",
      "source": [
        "## CSV"
      ],
      "metadata": {
        "id": "5gi3FlvoWuYI"
      }
    },
    {
      "cell_type": "code",
      "source": [
        "base_path = '/content/drive/My Drive/AML_Progetto/dataset/'\n",
        "\n",
        "train_csv_name = 'train.csv'\n",
        "test_csv_name = 'test_merged.csv'\n",
        "label_columns = ['toxic', 'severe_toxic', 'obscene', 'threat', 'insult', 'identity_hate']"
      ],
      "metadata": {
        "id": "GM1sIQEOMkZx"
      },
      "execution_count": 10,
      "outputs": []
    },
    {
      "cell_type": "markdown",
      "source": [
        "### Train"
      ],
      "metadata": {
        "id": "gR67bxZOK_cr"
      }
    },
    {
      "cell_type": "code",
      "execution_count": 11,
      "metadata": {
        "id": "Ul1J6m_-Lcff"
      },
      "outputs": [],
      "source": [
        "train_csv_path = os.path.join(base_path, train_csv_name)\n",
        "train_df = pd.read_csv(train_csv_path)"
      ]
    },
    {
      "cell_type": "code",
      "source": [
        "len(train_df)"
      ],
      "metadata": {
        "id": "WLQy6MrBLIKI",
        "colab": {
          "base_uri": "https://localhost:8080/"
        },
        "outputId": "c052124b-3d77-4055-a5a5-c97c4e4730e8"
      },
      "execution_count": 12,
      "outputs": [
        {
          "output_type": "execute_result",
          "data": {
            "text/plain": [
              "159571"
            ]
          },
          "metadata": {},
          "execution_count": 12
        }
      ]
    },
    {
      "cell_type": "code",
      "source": [
        "train_df.head()"
      ],
      "metadata": {
        "colab": {
          "base_uri": "https://localhost:8080/",
          "height": 0
        },
        "id": "sQOJ-C5PDaeI",
        "outputId": "08e84f41-a4e1-477d-e120-c3093815db54"
      },
      "execution_count": 13,
      "outputs": [
        {
          "output_type": "execute_result",
          "data": {
            "text/plain": [
              "                 id                                       comment_text  toxic  \\\n",
              "0  0000997932d777bf  Explanation\\nWhy the edits made under my usern...      0   \n",
              "1  000103f0d9cfb60f  D'aww! He matches this background colour I'm s...      0   \n",
              "2  000113f07ec002fd  Hey man, I'm really not trying to edit war. It...      0   \n",
              "3  0001b41b1c6bb37e  \"\\nMore\\nI can't make any real suggestions on ...      0   \n",
              "4  0001d958c54c6e35  You, sir, are my hero. Any chance you remember...      0   \n",
              "\n",
              "   severe_toxic  obscene  threat  insult  identity_hate  \n",
              "0             0        0       0       0              0  \n",
              "1             0        0       0       0              0  \n",
              "2             0        0       0       0              0  \n",
              "3             0        0       0       0              0  \n",
              "4             0        0       0       0              0  "
            ],
            "text/html": [
              "\n",
              "  <div id=\"df-654e78bf-334c-4515-956f-52661f893ad9\" class=\"colab-df-container\">\n",
              "    <div>\n",
              "<style scoped>\n",
              "    .dataframe tbody tr th:only-of-type {\n",
              "        vertical-align: middle;\n",
              "    }\n",
              "\n",
              "    .dataframe tbody tr th {\n",
              "        vertical-align: top;\n",
              "    }\n",
              "\n",
              "    .dataframe thead th {\n",
              "        text-align: right;\n",
              "    }\n",
              "</style>\n",
              "<table border=\"1\" class=\"dataframe\">\n",
              "  <thead>\n",
              "    <tr style=\"text-align: right;\">\n",
              "      <th></th>\n",
              "      <th>id</th>\n",
              "      <th>comment_text</th>\n",
              "      <th>toxic</th>\n",
              "      <th>severe_toxic</th>\n",
              "      <th>obscene</th>\n",
              "      <th>threat</th>\n",
              "      <th>insult</th>\n",
              "      <th>identity_hate</th>\n",
              "    </tr>\n",
              "  </thead>\n",
              "  <tbody>\n",
              "    <tr>\n",
              "      <th>0</th>\n",
              "      <td>0000997932d777bf</td>\n",
              "      <td>Explanation\\nWhy the edits made under my usern...</td>\n",
              "      <td>0</td>\n",
              "      <td>0</td>\n",
              "      <td>0</td>\n",
              "      <td>0</td>\n",
              "      <td>0</td>\n",
              "      <td>0</td>\n",
              "    </tr>\n",
              "    <tr>\n",
              "      <th>1</th>\n",
              "      <td>000103f0d9cfb60f</td>\n",
              "      <td>D'aww! He matches this background colour I'm s...</td>\n",
              "      <td>0</td>\n",
              "      <td>0</td>\n",
              "      <td>0</td>\n",
              "      <td>0</td>\n",
              "      <td>0</td>\n",
              "      <td>0</td>\n",
              "    </tr>\n",
              "    <tr>\n",
              "      <th>2</th>\n",
              "      <td>000113f07ec002fd</td>\n",
              "      <td>Hey man, I'm really not trying to edit war. It...</td>\n",
              "      <td>0</td>\n",
              "      <td>0</td>\n",
              "      <td>0</td>\n",
              "      <td>0</td>\n",
              "      <td>0</td>\n",
              "      <td>0</td>\n",
              "    </tr>\n",
              "    <tr>\n",
              "      <th>3</th>\n",
              "      <td>0001b41b1c6bb37e</td>\n",
              "      <td>\"\\nMore\\nI can't make any real suggestions on ...</td>\n",
              "      <td>0</td>\n",
              "      <td>0</td>\n",
              "      <td>0</td>\n",
              "      <td>0</td>\n",
              "      <td>0</td>\n",
              "      <td>0</td>\n",
              "    </tr>\n",
              "    <tr>\n",
              "      <th>4</th>\n",
              "      <td>0001d958c54c6e35</td>\n",
              "      <td>You, sir, are my hero. Any chance you remember...</td>\n",
              "      <td>0</td>\n",
              "      <td>0</td>\n",
              "      <td>0</td>\n",
              "      <td>0</td>\n",
              "      <td>0</td>\n",
              "      <td>0</td>\n",
              "    </tr>\n",
              "  </tbody>\n",
              "</table>\n",
              "</div>\n",
              "    <div class=\"colab-df-buttons\">\n",
              "\n",
              "  <div class=\"colab-df-container\">\n",
              "    <button class=\"colab-df-convert\" onclick=\"convertToInteractive('df-654e78bf-334c-4515-956f-52661f893ad9')\"\n",
              "            title=\"Convert this dataframe to an interactive table.\"\n",
              "            style=\"display:none;\">\n",
              "\n",
              "  <svg xmlns=\"http://www.w3.org/2000/svg\" height=\"24px\" viewBox=\"0 -960 960 960\">\n",
              "    <path d=\"M120-120v-720h720v720H120Zm60-500h600v-160H180v160Zm220 220h160v-160H400v160Zm0 220h160v-160H400v160ZM180-400h160v-160H180v160Zm440 0h160v-160H620v160ZM180-180h160v-160H180v160Zm440 0h160v-160H620v160Z\"/>\n",
              "  </svg>\n",
              "    </button>\n",
              "\n",
              "  <style>\n",
              "    .colab-df-container {\n",
              "      display:flex;\n",
              "      gap: 12px;\n",
              "    }\n",
              "\n",
              "    .colab-df-convert {\n",
              "      background-color: #E8F0FE;\n",
              "      border: none;\n",
              "      border-radius: 50%;\n",
              "      cursor: pointer;\n",
              "      display: none;\n",
              "      fill: #1967D2;\n",
              "      height: 32px;\n",
              "      padding: 0 0 0 0;\n",
              "      width: 32px;\n",
              "    }\n",
              "\n",
              "    .colab-df-convert:hover {\n",
              "      background-color: #E2EBFA;\n",
              "      box-shadow: 0px 1px 2px rgba(60, 64, 67, 0.3), 0px 1px 3px 1px rgba(60, 64, 67, 0.15);\n",
              "      fill: #174EA6;\n",
              "    }\n",
              "\n",
              "    .colab-df-buttons div {\n",
              "      margin-bottom: 4px;\n",
              "    }\n",
              "\n",
              "    [theme=dark] .colab-df-convert {\n",
              "      background-color: #3B4455;\n",
              "      fill: #D2E3FC;\n",
              "    }\n",
              "\n",
              "    [theme=dark] .colab-df-convert:hover {\n",
              "      background-color: #434B5C;\n",
              "      box-shadow: 0px 1px 3px 1px rgba(0, 0, 0, 0.15);\n",
              "      filter: drop-shadow(0px 1px 2px rgba(0, 0, 0, 0.3));\n",
              "      fill: #FFFFFF;\n",
              "    }\n",
              "  </style>\n",
              "\n",
              "    <script>\n",
              "      const buttonEl =\n",
              "        document.querySelector('#df-654e78bf-334c-4515-956f-52661f893ad9 button.colab-df-convert');\n",
              "      buttonEl.style.display =\n",
              "        google.colab.kernel.accessAllowed ? 'block' : 'none';\n",
              "\n",
              "      async function convertToInteractive(key) {\n",
              "        const element = document.querySelector('#df-654e78bf-334c-4515-956f-52661f893ad9');\n",
              "        const dataTable =\n",
              "          await google.colab.kernel.invokeFunction('convertToInteractive',\n",
              "                                                    [key], {});\n",
              "        if (!dataTable) return;\n",
              "\n",
              "        const docLinkHtml = 'Like what you see? Visit the ' +\n",
              "          '<a target=\"_blank\" href=https://colab.research.google.com/notebooks/data_table.ipynb>data table notebook</a>'\n",
              "          + ' to learn more about interactive tables.';\n",
              "        element.innerHTML = '';\n",
              "        dataTable['output_type'] = 'display_data';\n",
              "        await google.colab.output.renderOutput(dataTable, element);\n",
              "        const docLink = document.createElement('div');\n",
              "        docLink.innerHTML = docLinkHtml;\n",
              "        element.appendChild(docLink);\n",
              "      }\n",
              "    </script>\n",
              "  </div>\n",
              "\n",
              "\n",
              "<div id=\"df-0927be6e-d336-43a3-9658-aba8f471eae3\">\n",
              "  <button class=\"colab-df-quickchart\" onclick=\"quickchart('df-0927be6e-d336-43a3-9658-aba8f471eae3')\"\n",
              "            title=\"Suggest charts\"\n",
              "            style=\"display:none;\">\n",
              "\n",
              "<svg xmlns=\"http://www.w3.org/2000/svg\" height=\"24px\"viewBox=\"0 0 24 24\"\n",
              "     width=\"24px\">\n",
              "    <g>\n",
              "        <path d=\"M19 3H5c-1.1 0-2 .9-2 2v14c0 1.1.9 2 2 2h14c1.1 0 2-.9 2-2V5c0-1.1-.9-2-2-2zM9 17H7v-7h2v7zm4 0h-2V7h2v10zm4 0h-2v-4h2v4z\"/>\n",
              "    </g>\n",
              "</svg>\n",
              "  </button>\n",
              "\n",
              "<style>\n",
              "  .colab-df-quickchart {\n",
              "      --bg-color: #E8F0FE;\n",
              "      --fill-color: #1967D2;\n",
              "      --hover-bg-color: #E2EBFA;\n",
              "      --hover-fill-color: #174EA6;\n",
              "      --disabled-fill-color: #AAA;\n",
              "      --disabled-bg-color: #DDD;\n",
              "  }\n",
              "\n",
              "  [theme=dark] .colab-df-quickchart {\n",
              "      --bg-color: #3B4455;\n",
              "      --fill-color: #D2E3FC;\n",
              "      --hover-bg-color: #434B5C;\n",
              "      --hover-fill-color: #FFFFFF;\n",
              "      --disabled-bg-color: #3B4455;\n",
              "      --disabled-fill-color: #666;\n",
              "  }\n",
              "\n",
              "  .colab-df-quickchart {\n",
              "    background-color: var(--bg-color);\n",
              "    border: none;\n",
              "    border-radius: 50%;\n",
              "    cursor: pointer;\n",
              "    display: none;\n",
              "    fill: var(--fill-color);\n",
              "    height: 32px;\n",
              "    padding: 0;\n",
              "    width: 32px;\n",
              "  }\n",
              "\n",
              "  .colab-df-quickchart:hover {\n",
              "    background-color: var(--hover-bg-color);\n",
              "    box-shadow: 0 1px 2px rgba(60, 64, 67, 0.3), 0 1px 3px 1px rgba(60, 64, 67, 0.15);\n",
              "    fill: var(--button-hover-fill-color);\n",
              "  }\n",
              "\n",
              "  .colab-df-quickchart-complete:disabled,\n",
              "  .colab-df-quickchart-complete:disabled:hover {\n",
              "    background-color: var(--disabled-bg-color);\n",
              "    fill: var(--disabled-fill-color);\n",
              "    box-shadow: none;\n",
              "  }\n",
              "\n",
              "  .colab-df-spinner {\n",
              "    border: 2px solid var(--fill-color);\n",
              "    border-color: transparent;\n",
              "    border-bottom-color: var(--fill-color);\n",
              "    animation:\n",
              "      spin 1s steps(1) infinite;\n",
              "  }\n",
              "\n",
              "  @keyframes spin {\n",
              "    0% {\n",
              "      border-color: transparent;\n",
              "      border-bottom-color: var(--fill-color);\n",
              "      border-left-color: var(--fill-color);\n",
              "    }\n",
              "    20% {\n",
              "      border-color: transparent;\n",
              "      border-left-color: var(--fill-color);\n",
              "      border-top-color: var(--fill-color);\n",
              "    }\n",
              "    30% {\n",
              "      border-color: transparent;\n",
              "      border-left-color: var(--fill-color);\n",
              "      border-top-color: var(--fill-color);\n",
              "      border-right-color: var(--fill-color);\n",
              "    }\n",
              "    40% {\n",
              "      border-color: transparent;\n",
              "      border-right-color: var(--fill-color);\n",
              "      border-top-color: var(--fill-color);\n",
              "    }\n",
              "    60% {\n",
              "      border-color: transparent;\n",
              "      border-right-color: var(--fill-color);\n",
              "    }\n",
              "    80% {\n",
              "      border-color: transparent;\n",
              "      border-right-color: var(--fill-color);\n",
              "      border-bottom-color: var(--fill-color);\n",
              "    }\n",
              "    90% {\n",
              "      border-color: transparent;\n",
              "      border-bottom-color: var(--fill-color);\n",
              "    }\n",
              "  }\n",
              "</style>\n",
              "\n",
              "  <script>\n",
              "    async function quickchart(key) {\n",
              "      const quickchartButtonEl =\n",
              "        document.querySelector('#' + key + ' button');\n",
              "      quickchartButtonEl.disabled = true;  // To prevent multiple clicks.\n",
              "      quickchartButtonEl.classList.add('colab-df-spinner');\n",
              "      try {\n",
              "        const charts = await google.colab.kernel.invokeFunction(\n",
              "            'suggestCharts', [key], {});\n",
              "      } catch (error) {\n",
              "        console.error('Error during call to suggestCharts:', error);\n",
              "      }\n",
              "      quickchartButtonEl.classList.remove('colab-df-spinner');\n",
              "      quickchartButtonEl.classList.add('colab-df-quickchart-complete');\n",
              "    }\n",
              "    (() => {\n",
              "      let quickchartButtonEl =\n",
              "        document.querySelector('#df-0927be6e-d336-43a3-9658-aba8f471eae3 button');\n",
              "      quickchartButtonEl.style.display =\n",
              "        google.colab.kernel.accessAllowed ? 'block' : 'none';\n",
              "    })();\n",
              "  </script>\n",
              "</div>\n",
              "    </div>\n",
              "  </div>\n"
            ]
          },
          "metadata": {},
          "execution_count": 13
        }
      ]
    },
    {
      "cell_type": "markdown",
      "source": [
        "### Test"
      ],
      "metadata": {
        "id": "iQPgPNjCLBem"
      }
    },
    {
      "cell_type": "code",
      "source": [
        "test_csv_path = os.path.join(base_path, test_csv_name)\n",
        "test_df = pd.read_csv(test_csv_path)"
      ],
      "metadata": {
        "id": "PCvqxaRDPs_N"
      },
      "execution_count": 14,
      "outputs": []
    },
    {
      "cell_type": "code",
      "source": [
        "len(test_df)"
      ],
      "metadata": {
        "colab": {
          "base_uri": "https://localhost:8080/"
        },
        "id": "kK81mHhfXJy4",
        "outputId": "7786620d-1ab9-451d-e523-8e72e230c7df"
      },
      "execution_count": 15,
      "outputs": [
        {
          "output_type": "execute_result",
          "data": {
            "text/plain": [
              "63978"
            ]
          },
          "metadata": {},
          "execution_count": 15
        }
      ]
    },
    {
      "cell_type": "code",
      "source": [
        "test_df.head()"
      ],
      "metadata": {
        "colab": {
          "base_uri": "https://localhost:8080/",
          "height": 0
        },
        "id": "Np_r0P0WDjm4",
        "outputId": "72109bd5-dd96-415f-bb61-a1f83154bab4"
      },
      "execution_count": 16,
      "outputs": [
        {
          "output_type": "execute_result",
          "data": {
            "text/plain": [
              "                 id                                       comment_text  toxic  \\\n",
              "0  0001ea8717f6de06  Thank you for understanding. I think very high...      0   \n",
              "1  000247e83dcc1211                   :Dear god this site is horrible.      0   \n",
              "2  0002f87b16116a7f  \"::: Somebody will invariably try to add Relig...      0   \n",
              "3  0003e1cccfd5a40a  \" \\n\\n It says it right there that it IS a typ...      0   \n",
              "4  00059ace3e3e9a53  \" \\n\\n == Before adding a new product to the l...      0   \n",
              "\n",
              "   severe_toxic  obscene  threat  insult  identity_hate  \n",
              "0             0        0       0       0              0  \n",
              "1             0        0       0       0              0  \n",
              "2             0        0       0       0              0  \n",
              "3             0        0       0       0              0  \n",
              "4             0        0       0       0              0  "
            ],
            "text/html": [
              "\n",
              "  <div id=\"df-9178bacc-9379-42cf-9520-f44c1e442b88\" class=\"colab-df-container\">\n",
              "    <div>\n",
              "<style scoped>\n",
              "    .dataframe tbody tr th:only-of-type {\n",
              "        vertical-align: middle;\n",
              "    }\n",
              "\n",
              "    .dataframe tbody tr th {\n",
              "        vertical-align: top;\n",
              "    }\n",
              "\n",
              "    .dataframe thead th {\n",
              "        text-align: right;\n",
              "    }\n",
              "</style>\n",
              "<table border=\"1\" class=\"dataframe\">\n",
              "  <thead>\n",
              "    <tr style=\"text-align: right;\">\n",
              "      <th></th>\n",
              "      <th>id</th>\n",
              "      <th>comment_text</th>\n",
              "      <th>toxic</th>\n",
              "      <th>severe_toxic</th>\n",
              "      <th>obscene</th>\n",
              "      <th>threat</th>\n",
              "      <th>insult</th>\n",
              "      <th>identity_hate</th>\n",
              "    </tr>\n",
              "  </thead>\n",
              "  <tbody>\n",
              "    <tr>\n",
              "      <th>0</th>\n",
              "      <td>0001ea8717f6de06</td>\n",
              "      <td>Thank you for understanding. I think very high...</td>\n",
              "      <td>0</td>\n",
              "      <td>0</td>\n",
              "      <td>0</td>\n",
              "      <td>0</td>\n",
              "      <td>0</td>\n",
              "      <td>0</td>\n",
              "    </tr>\n",
              "    <tr>\n",
              "      <th>1</th>\n",
              "      <td>000247e83dcc1211</td>\n",
              "      <td>:Dear god this site is horrible.</td>\n",
              "      <td>0</td>\n",
              "      <td>0</td>\n",
              "      <td>0</td>\n",
              "      <td>0</td>\n",
              "      <td>0</td>\n",
              "      <td>0</td>\n",
              "    </tr>\n",
              "    <tr>\n",
              "      <th>2</th>\n",
              "      <td>0002f87b16116a7f</td>\n",
              "      <td>\"::: Somebody will invariably try to add Relig...</td>\n",
              "      <td>0</td>\n",
              "      <td>0</td>\n",
              "      <td>0</td>\n",
              "      <td>0</td>\n",
              "      <td>0</td>\n",
              "      <td>0</td>\n",
              "    </tr>\n",
              "    <tr>\n",
              "      <th>3</th>\n",
              "      <td>0003e1cccfd5a40a</td>\n",
              "      <td>\" \\n\\n It says it right there that it IS a typ...</td>\n",
              "      <td>0</td>\n",
              "      <td>0</td>\n",
              "      <td>0</td>\n",
              "      <td>0</td>\n",
              "      <td>0</td>\n",
              "      <td>0</td>\n",
              "    </tr>\n",
              "    <tr>\n",
              "      <th>4</th>\n",
              "      <td>00059ace3e3e9a53</td>\n",
              "      <td>\" \\n\\n == Before adding a new product to the l...</td>\n",
              "      <td>0</td>\n",
              "      <td>0</td>\n",
              "      <td>0</td>\n",
              "      <td>0</td>\n",
              "      <td>0</td>\n",
              "      <td>0</td>\n",
              "    </tr>\n",
              "  </tbody>\n",
              "</table>\n",
              "</div>\n",
              "    <div class=\"colab-df-buttons\">\n",
              "\n",
              "  <div class=\"colab-df-container\">\n",
              "    <button class=\"colab-df-convert\" onclick=\"convertToInteractive('df-9178bacc-9379-42cf-9520-f44c1e442b88')\"\n",
              "            title=\"Convert this dataframe to an interactive table.\"\n",
              "            style=\"display:none;\">\n",
              "\n",
              "  <svg xmlns=\"http://www.w3.org/2000/svg\" height=\"24px\" viewBox=\"0 -960 960 960\">\n",
              "    <path d=\"M120-120v-720h720v720H120Zm60-500h600v-160H180v160Zm220 220h160v-160H400v160Zm0 220h160v-160H400v160ZM180-400h160v-160H180v160Zm440 0h160v-160H620v160ZM180-180h160v-160H180v160Zm440 0h160v-160H620v160Z\"/>\n",
              "  </svg>\n",
              "    </button>\n",
              "\n",
              "  <style>\n",
              "    .colab-df-container {\n",
              "      display:flex;\n",
              "      gap: 12px;\n",
              "    }\n",
              "\n",
              "    .colab-df-convert {\n",
              "      background-color: #E8F0FE;\n",
              "      border: none;\n",
              "      border-radius: 50%;\n",
              "      cursor: pointer;\n",
              "      display: none;\n",
              "      fill: #1967D2;\n",
              "      height: 32px;\n",
              "      padding: 0 0 0 0;\n",
              "      width: 32px;\n",
              "    }\n",
              "\n",
              "    .colab-df-convert:hover {\n",
              "      background-color: #E2EBFA;\n",
              "      box-shadow: 0px 1px 2px rgba(60, 64, 67, 0.3), 0px 1px 3px 1px rgba(60, 64, 67, 0.15);\n",
              "      fill: #174EA6;\n",
              "    }\n",
              "\n",
              "    .colab-df-buttons div {\n",
              "      margin-bottom: 4px;\n",
              "    }\n",
              "\n",
              "    [theme=dark] .colab-df-convert {\n",
              "      background-color: #3B4455;\n",
              "      fill: #D2E3FC;\n",
              "    }\n",
              "\n",
              "    [theme=dark] .colab-df-convert:hover {\n",
              "      background-color: #434B5C;\n",
              "      box-shadow: 0px 1px 3px 1px rgba(0, 0, 0, 0.15);\n",
              "      filter: drop-shadow(0px 1px 2px rgba(0, 0, 0, 0.3));\n",
              "      fill: #FFFFFF;\n",
              "    }\n",
              "  </style>\n",
              "\n",
              "    <script>\n",
              "      const buttonEl =\n",
              "        document.querySelector('#df-9178bacc-9379-42cf-9520-f44c1e442b88 button.colab-df-convert');\n",
              "      buttonEl.style.display =\n",
              "        google.colab.kernel.accessAllowed ? 'block' : 'none';\n",
              "\n",
              "      async function convertToInteractive(key) {\n",
              "        const element = document.querySelector('#df-9178bacc-9379-42cf-9520-f44c1e442b88');\n",
              "        const dataTable =\n",
              "          await google.colab.kernel.invokeFunction('convertToInteractive',\n",
              "                                                    [key], {});\n",
              "        if (!dataTable) return;\n",
              "\n",
              "        const docLinkHtml = 'Like what you see? Visit the ' +\n",
              "          '<a target=\"_blank\" href=https://colab.research.google.com/notebooks/data_table.ipynb>data table notebook</a>'\n",
              "          + ' to learn more about interactive tables.';\n",
              "        element.innerHTML = '';\n",
              "        dataTable['output_type'] = 'display_data';\n",
              "        await google.colab.output.renderOutput(dataTable, element);\n",
              "        const docLink = document.createElement('div');\n",
              "        docLink.innerHTML = docLinkHtml;\n",
              "        element.appendChild(docLink);\n",
              "      }\n",
              "    </script>\n",
              "  </div>\n",
              "\n",
              "\n",
              "<div id=\"df-671c8937-31c4-4243-bb00-89c651cc87be\">\n",
              "  <button class=\"colab-df-quickchart\" onclick=\"quickchart('df-671c8937-31c4-4243-bb00-89c651cc87be')\"\n",
              "            title=\"Suggest charts\"\n",
              "            style=\"display:none;\">\n",
              "\n",
              "<svg xmlns=\"http://www.w3.org/2000/svg\" height=\"24px\"viewBox=\"0 0 24 24\"\n",
              "     width=\"24px\">\n",
              "    <g>\n",
              "        <path d=\"M19 3H5c-1.1 0-2 .9-2 2v14c0 1.1.9 2 2 2h14c1.1 0 2-.9 2-2V5c0-1.1-.9-2-2-2zM9 17H7v-7h2v7zm4 0h-2V7h2v10zm4 0h-2v-4h2v4z\"/>\n",
              "    </g>\n",
              "</svg>\n",
              "  </button>\n",
              "\n",
              "<style>\n",
              "  .colab-df-quickchart {\n",
              "      --bg-color: #E8F0FE;\n",
              "      --fill-color: #1967D2;\n",
              "      --hover-bg-color: #E2EBFA;\n",
              "      --hover-fill-color: #174EA6;\n",
              "      --disabled-fill-color: #AAA;\n",
              "      --disabled-bg-color: #DDD;\n",
              "  }\n",
              "\n",
              "  [theme=dark] .colab-df-quickchart {\n",
              "      --bg-color: #3B4455;\n",
              "      --fill-color: #D2E3FC;\n",
              "      --hover-bg-color: #434B5C;\n",
              "      --hover-fill-color: #FFFFFF;\n",
              "      --disabled-bg-color: #3B4455;\n",
              "      --disabled-fill-color: #666;\n",
              "  }\n",
              "\n",
              "  .colab-df-quickchart {\n",
              "    background-color: var(--bg-color);\n",
              "    border: none;\n",
              "    border-radius: 50%;\n",
              "    cursor: pointer;\n",
              "    display: none;\n",
              "    fill: var(--fill-color);\n",
              "    height: 32px;\n",
              "    padding: 0;\n",
              "    width: 32px;\n",
              "  }\n",
              "\n",
              "  .colab-df-quickchart:hover {\n",
              "    background-color: var(--hover-bg-color);\n",
              "    box-shadow: 0 1px 2px rgba(60, 64, 67, 0.3), 0 1px 3px 1px rgba(60, 64, 67, 0.15);\n",
              "    fill: var(--button-hover-fill-color);\n",
              "  }\n",
              "\n",
              "  .colab-df-quickchart-complete:disabled,\n",
              "  .colab-df-quickchart-complete:disabled:hover {\n",
              "    background-color: var(--disabled-bg-color);\n",
              "    fill: var(--disabled-fill-color);\n",
              "    box-shadow: none;\n",
              "  }\n",
              "\n",
              "  .colab-df-spinner {\n",
              "    border: 2px solid var(--fill-color);\n",
              "    border-color: transparent;\n",
              "    border-bottom-color: var(--fill-color);\n",
              "    animation:\n",
              "      spin 1s steps(1) infinite;\n",
              "  }\n",
              "\n",
              "  @keyframes spin {\n",
              "    0% {\n",
              "      border-color: transparent;\n",
              "      border-bottom-color: var(--fill-color);\n",
              "      border-left-color: var(--fill-color);\n",
              "    }\n",
              "    20% {\n",
              "      border-color: transparent;\n",
              "      border-left-color: var(--fill-color);\n",
              "      border-top-color: var(--fill-color);\n",
              "    }\n",
              "    30% {\n",
              "      border-color: transparent;\n",
              "      border-left-color: var(--fill-color);\n",
              "      border-top-color: var(--fill-color);\n",
              "      border-right-color: var(--fill-color);\n",
              "    }\n",
              "    40% {\n",
              "      border-color: transparent;\n",
              "      border-right-color: var(--fill-color);\n",
              "      border-top-color: var(--fill-color);\n",
              "    }\n",
              "    60% {\n",
              "      border-color: transparent;\n",
              "      border-right-color: var(--fill-color);\n",
              "    }\n",
              "    80% {\n",
              "      border-color: transparent;\n",
              "      border-right-color: var(--fill-color);\n",
              "      border-bottom-color: var(--fill-color);\n",
              "    }\n",
              "    90% {\n",
              "      border-color: transparent;\n",
              "      border-bottom-color: var(--fill-color);\n",
              "    }\n",
              "  }\n",
              "</style>\n",
              "\n",
              "  <script>\n",
              "    async function quickchart(key) {\n",
              "      const quickchartButtonEl =\n",
              "        document.querySelector('#' + key + ' button');\n",
              "      quickchartButtonEl.disabled = true;  // To prevent multiple clicks.\n",
              "      quickchartButtonEl.classList.add('colab-df-spinner');\n",
              "      try {\n",
              "        const charts = await google.colab.kernel.invokeFunction(\n",
              "            'suggestCharts', [key], {});\n",
              "      } catch (error) {\n",
              "        console.error('Error during call to suggestCharts:', error);\n",
              "      }\n",
              "      quickchartButtonEl.classList.remove('colab-df-spinner');\n",
              "      quickchartButtonEl.classList.add('colab-df-quickchart-complete');\n",
              "    }\n",
              "    (() => {\n",
              "      let quickchartButtonEl =\n",
              "        document.querySelector('#df-671c8937-31c4-4243-bb00-89c651cc87be button');\n",
              "      quickchartButtonEl.style.display =\n",
              "        google.colab.kernel.accessAllowed ? 'block' : 'none';\n",
              "    })();\n",
              "  </script>\n",
              "</div>\n",
              "    </div>\n",
              "  </div>\n"
            ]
          },
          "metadata": {},
          "execution_count": 16
        }
      ]
    },
    {
      "cell_type": "markdown",
      "source": [
        "## Check\n"
      ],
      "metadata": {
        "id": "pzl-_tJTWK0G"
      }
    },
    {
      "cell_type": "code",
      "source": [
        "# check null value\n",
        "train_df.isnull().any(), test_df.isnull().any()"
      ],
      "metadata": {
        "colab": {
          "base_uri": "https://localhost:8080/"
        },
        "id": "ilu3Z8OCdwKk",
        "outputId": "8ca30643-0c55-471b-8ba4-6b6f6114b998"
      },
      "execution_count": 17,
      "outputs": [
        {
          "output_type": "execute_result",
          "data": {
            "text/plain": [
              "(id               False\n",
              " comment_text     False\n",
              " toxic            False\n",
              " severe_toxic     False\n",
              " obscene          False\n",
              " threat           False\n",
              " insult           False\n",
              " identity_hate    False\n",
              " dtype: bool,\n",
              " id               False\n",
              " comment_text     False\n",
              " toxic            False\n",
              " severe_toxic     False\n",
              " obscene          False\n",
              " threat           False\n",
              " insult           False\n",
              " identity_hate    False\n",
              " dtype: bool)"
            ]
          },
          "metadata": {},
          "execution_count": 17
        }
      ]
    },
    {
      "cell_type": "markdown",
      "source": [
        "## Exploration"
      ],
      "metadata": {
        "id": "IHVCsW5FVQXQ"
      }
    },
    {
      "cell_type": "code",
      "source": [
        "x = train_df.iloc[:,2:].sum()\n",
        "print(x)"
      ],
      "metadata": {
        "colab": {
          "base_uri": "https://localhost:8080/"
        },
        "id": "angBzL1yX0oA",
        "outputId": "f3e22c33-0146-4733-eb3d-5a9c2c02f586"
      },
      "execution_count": 18,
      "outputs": [
        {
          "output_type": "stream",
          "name": "stdout",
          "text": [
            "toxic            15294\n",
            "severe_toxic      1595\n",
            "obscene           8449\n",
            "threat             478\n",
            "insult            7877\n",
            "identity_hate     1405\n",
            "dtype: int64\n"
          ]
        }
      ]
    },
    {
      "cell_type": "code",
      "source": [
        "rowsums=train_df.iloc[:,2:].sum(axis=1)\n",
        "train_df['non_toxic']=(rowsums==0)\n",
        "\n",
        "train_df['non_toxic'].sum()\n",
        "print(\"Total comments = \", len(train_df))\n",
        "print(\"Total clean comments = \",train_df['non_toxic'].sum())"
      ],
      "metadata": {
        "colab": {
          "base_uri": "https://localhost:8080/"
        },
        "id": "4R0vFpF1YHgp",
        "outputId": "fb077425-74ee-4a06-f40f-afc3c48c591f"
      },
      "execution_count": 19,
      "outputs": [
        {
          "output_type": "stream",
          "name": "stdout",
          "text": [
            "Total comments =  159571\n",
            "Total clean comments =  143346\n"
          ]
        }
      ]
    },
    {
      "cell_type": "code",
      "source": [
        "# Calcola il numero di esempi per label\n",
        "label_counts = train_df.iloc[:, 2:].sum()\n",
        "\n",
        "colors = ['skyblue', 'lightgreen', 'lightcoral', 'orange', 'lightpink', 'lightblue', 'gold']\n",
        "\n",
        "# Crea un grafico a barre con colori diversi e sfondo bianco\n",
        "plt.figure(figsize=(15, 6))\n",
        "ax = label_counts.plot(kind='bar', color=colors, fontsize=14)\n",
        "ax.set_facecolor('white')  # Sfondo bianco\n",
        "plt.xlabel('Label', fontsize=14)\n",
        "plt.ylabel('Numero di commenti', fontsize=14)\n",
        "\n",
        "# Aggiungi etichette con il numero di esempi sopra le barre\n",
        "for i, v in enumerate(label_counts):\n",
        "    ax.text(i, v + 5, str(v), ha='center', va='bottom', fontsize=12, color='black')\n",
        "\n",
        "\n",
        "plt.show()"
      ],
      "metadata": {
        "colab": {
          "base_uri": "https://localhost:8080/",
          "height": 0
        },
        "id": "IxlbfpP7Ztvn",
        "outputId": "4437139b-d7ef-413d-d32a-94a558c3f5fa"
      },
      "execution_count": 20,
      "outputs": [
        {
          "output_type": "display_data",
          "data": {
            "text/plain": [
              "<Figure size 1500x600 with 1 Axes>"
            ],
            "image/png": "[encoded data removed]"
          },
          "metadata": {}
        }
      ]
    },
    {
      "cell_type": "code",
      "source": [
        "# Calcola il numero di tag per ogni commento\n",
        "x = rowsums.value_counts()\n",
        "\n",
        "colors = ['skyblue', 'lightgreen', 'lightcoral', 'orange', 'lightpink', 'lightblue', 'gold']\n",
        "\n",
        "# Crea un grafico a barre per visualizzare il numero di commenti con un numero specifico di tag\n",
        "plt.figure(figsize=(15, 6))\n",
        "ax = x.plot(kind='bar', color=colors, fontsize=14)\n",
        "ax.set_facecolor('white')  # Sfondo bianco\n",
        "plt.xlabel('Numero di Tag', fontsize=14)  # Imposta la dimensione del font\n",
        "plt.ylabel('Numero di Commenti', fontsize=14)  # Imposta la dimensione del font\n",
        "\n",
        "rects = ax.patches\n",
        "labels = x.values\n",
        "\n",
        "for rect, label in zip(rects, labels):\n",
        "    height = rect.get_height()\n",
        "    ax.text(rect.get_x() + rect.get_width()/2, height + 5, label, ha='center', va='bottom', fontsize=12)  # Imposta la dimensione del font\n",
        "\n",
        "plt.show()\n"
      ],
      "metadata": {
        "colab": {
          "base_uri": "https://localhost:8080/",
          "height": 0
        },
        "id": "gzD9aP-hanhN",
        "outputId": "798ee460-abb4-47d9-af2d-15fa0ac8b72c"
      },
      "execution_count": 21,
      "outputs": [
        {
          "output_type": "display_data",
          "data": {
            "text/plain": [
              "<Figure size 1500x600 with 1 Axes>"
            ],
            "image/png": "[encoded data removed]"
          },
          "metadata": {}
        }
      ]
    },
    {
      "cell_type": "code",
      "source": [
        "lens = train_df.comment_text.str.len()\n",
        "lens.mean(), lens.std(), lens.max()\n",
        "lens.hist();"
      ],
      "metadata": {
        "colab": {
          "base_uri": "https://localhost:8080/",
          "height": 0
        },
        "id": "qOuYHOuuVTC7",
        "outputId": "93d788c1-9b8e-420a-84f4-0fdcaf3a04bd"
      },
      "execution_count": 22,
      "outputs": [
        {
          "output_type": "display_data",
          "data": {
            "text/plain": [
              "<Figure size 640x480 with 1 Axes>"
            ],
            "image/png": "[encoded data removed]"
          },
          "metadata": {}
        }
      ]
    },
    {
      "cell_type": "markdown",
      "source": [
        "## Class weights"
      ],
      "metadata": {
        "id": "_jex9X7wKu_A"
      }
    },
    {
      "cell_type": "code",
      "source": [
        "subset_labels = train_df[label_columns]\n",
        "\n",
        "class_frequencies = subset_labels.sum(axis=0)\n",
        "class_weights = compute_class_weight('balanced', classes = [0, 1], y = np.ravel(subset_labels))\n",
        "class_weights_based_on_frequencies = class_frequencies.sum() / (class_frequencies * len(class_frequencies))\n",
        "\n",
        "class_weights_based_on_frequencies"
      ],
      "metadata": {
        "id": "yIudovGEKyq9",
        "colab": {
          "base_uri": "https://localhost:8080/"
        },
        "outputId": "89364981-d8da-49a0-8867-42a75e5b1b3b"
      },
      "execution_count": 23,
      "outputs": [
        {
          "output_type": "execute_result",
          "data": {
            "text/plain": [
              "toxic             0.382481\n",
              "severe_toxic      3.667503\n",
              "obscene           0.692350\n",
              "threat           12.237796\n",
              "insult            0.742626\n",
              "identity_hate     4.163464\n",
              "dtype: float64"
            ]
          },
          "metadata": {},
          "execution_count": 23
        }
      ]
    },
    {
      "cell_type": "markdown",
      "source": [
        "## Lower case"
      ],
      "metadata": {
        "id": "HudVqS1qL1yd"
      }
    },
    {
      "cell_type": "code",
      "source": [
        "train_df[\"comment_text\"] = train_df[\"comment_text\"].str.lower()\n",
        "test_df[\"comment_text\"] = test_df[\"comment_text\"].str.lower()"
      ],
      "metadata": {
        "id": "zoLZQx_FL3fE"
      },
      "execution_count": 24,
      "outputs": []
    },
    {
      "cell_type": "markdown",
      "source": [
        "## Clean dataset\n"
      ],
      "metadata": {
        "id": "k-qehqcRaZ_R"
      }
    },
    {
      "cell_type": "code",
      "source": [
        "train_df['comment_text'] = train_df['comment_text'].map(lambda com : clean_text(com))\n",
        "test_df['comment_text'] = test_df['comment_text'].map(lambda com : clean_text(com))"
      ],
      "metadata": {
        "id": "mtDTWFh-fafi"
      },
      "execution_count": 25,
      "outputs": []
    },
    {
      "cell_type": "markdown",
      "source": [
        "## Labels"
      ],
      "metadata": {
        "id": "X40AH6G7L_gk"
      }
    },
    {
      "cell_type": "code",
      "source": [
        "y_train = train_df[label_columns].values\n",
        "y_test = test_df[label_columns].values"
      ],
      "metadata": {
        "id": "sY5DYgm6MBfz"
      },
      "execution_count": 26,
      "outputs": []
    },
    {
      "cell_type": "markdown",
      "source": [
        "# Tokenization"
      ],
      "metadata": {
        "id": "hZ4JbLCMjAug"
      }
    },
    {
      "cell_type": "markdown",
      "source": [
        "## Check sequence length"
      ],
      "metadata": {
        "id": "vtbRxNyWNfLc"
      }
    },
    {
      "cell_type": "code",
      "source": [
        "comment_lengths = train_df['comment_text'].apply(len)\n",
        "print(comment_lengths.describe())\n",
        "\n",
        "plt.hist(comment_lengths, bins=50, alpha=0.75)\n",
        "plt.xlabel('Lunghezza commento')\n",
        "plt.ylabel('Frequenza')\n",
        "plt.title('Distribuzione lunghezze commenti')\n",
        "plt.show()"
      ],
      "metadata": {
        "colab": {
          "base_uri": "https://localhost:8080/",
          "height": 635
        },
        "id": "3wkUOL7S3vKy",
        "outputId": "7d03a738-432e-4fe0-e5ff-d934cd8ed9c7"
      },
      "execution_count": 27,
      "outputs": [
        {
          "output_type": "stream",
          "name": "stdout",
          "text": [
            "count    159571.000000\n",
            "mean        376.991953\n",
            "std         567.071500\n",
            "min           4.000000\n",
            "25%          90.000000\n",
            "50%         196.000000\n",
            "75%         418.000000\n",
            "max        5121.000000\n",
            "Name: comment_text, dtype: float64\n"
          ]
        },
        {
          "output_type": "display_data",
          "data": {
            "text/plain": [
              "<Figure size 640x480 with 1 Axes>"
            ],
            "image/png": "[encoded data removed]"
          },
          "metadata": {}
        }
      ]
    },
    {
      "cell_type": "markdown",
      "source": [
        "## Check number of words"
      ],
      "metadata": {
        "id": "9Z9KmnU-Njmm"
      }
    },
    {
      "cell_type": "code",
      "source": [
        "tokenizer_temp = Tokenizer(lower=True)\n",
        "tokenizer_temp.fit_on_texts(train_df['comment_text'])\n",
        "word_index = tokenizer_temp.word_index\n",
        "\n",
        "# Numero totale di parole nel vocabolario\n",
        "total_words = len(word_index)\n",
        "\n",
        "# Visualizza il numero totale di parole nel vocabolario\n",
        "print(f\"\\nNumero totale di parole nel vocabolario: {total_words}\")"
      ],
      "metadata": {
        "colab": {
          "base_uri": "https://localhost:8080/"
        },
        "id": "mvVz0tlUNqaz",
        "outputId": "446a103a-0df1-45fd-8359-ac31e315e278"
      },
      "execution_count": 28,
      "outputs": [
        {
          "output_type": "stream",
          "name": "stdout",
          "text": [
            "\n",
            "Numero totale di parole nel vocabolario: 187000\n"
          ]
        }
      ]
    },
    {
      "cell_type": "markdown",
      "source": [
        "## Tokenization process"
      ],
      "metadata": {
        "id": "Q9CJ74VJNq73"
      }
    },
    {
      "cell_type": "code",
      "source": [
        "max_seq_len = 200\n",
        "max_words = 20000\n",
        "\n",
        "list_sentences_train = train_df[\"comment_text\"]\n",
        "list_sentences_test = test_df[\"comment_text\"]"
      ],
      "metadata": {
        "id": "jd--CtHNN-86"
      },
      "execution_count": 29,
      "outputs": []
    },
    {
      "cell_type": "code",
      "source": [
        "tokenizer = Tokenizer(num_words = max_words)\n",
        "tokenizer.fit_on_texts(list(list_sentences_train))"
      ],
      "metadata": {
        "id": "hSTdkKuVfj01"
      },
      "execution_count": 30,
      "outputs": []
    },
    {
      "cell_type": "markdown",
      "source": [
        "### Create Sequence"
      ],
      "metadata": {
        "id": "UexwzuWX23Oe"
      }
    },
    {
      "cell_type": "code",
      "source": [
        "train_sequences = tokenizer.texts_to_sequences(list_sentences_train)\n",
        "test_sequences = tokenizer.texts_to_sequences(list_sentences_test)"
      ],
      "metadata": {
        "id": "gp6Q71PYl-I6"
      },
      "execution_count": 31,
      "outputs": []
    },
    {
      "cell_type": "markdown",
      "source": [
        "### Padding"
      ],
      "metadata": {
        "id": "OcJdUsfY2512"
      }
    },
    {
      "cell_type": "code",
      "source": [
        "x_train = pad_sequences(train_sequences, maxlen = max_seq_len)\n",
        "x_test  = pad_sequences(test_sequences, maxlen = max_seq_len)"
      ],
      "metadata": {
        "id": "mN9UDvxJl9E8"
      },
      "execution_count": 32,
      "outputs": []
    },
    {
      "cell_type": "markdown",
      "source": [
        "# Tuning Hyperparameters"
      ],
      "metadata": {
        "id": "vHFeSgVlazYt"
      }
    },
    {
      "cell_type": "markdown",
      "source": [
        "## Define tuning model"
      ],
      "metadata": {
        "id": "ZdFgpU-0Wap3"
      }
    },
    {
      "cell_type": "code",
      "source": [
        "def build_model(hp):\n",
        "    input_layer = Input(shape=(max_seq_len,))\n",
        "    embedding_layer = Embedding(\n",
        "        input_dim=max_words,\n",
        "        output_dim=hp.Int('embed_size', min_value=100, max_value=400, step=50))(input_layer)\n",
        "    spatial_dropout_layer = SpatialDropout1D(\n",
        "        rate=hp.Float(\"spatial_dropout_rate\", min_value=0.1, max_value=0.6, step=0.1),\n",
        "        name='spatial_dropout')(embedding_layer)\n",
        "\n",
        "    recurrent_layer_type = hp.Choice(\"recurrent_layer\", [\"LSTM\", \"GRU\"])\n",
        "    recurrent_units = hp.Int(\"units_bi\", min_value=60, max_value=300, step=30)\n",
        "    recurrent_dropout = hp.Float(\"dropout_bi\", min_value=0.1, max_value=0.6, step=0.1)\n",
        "\n",
        "    if recurrent_layer_type == \"LSTM\":\n",
        "        recurrent_layer = Bidirectional(\n",
        "            LSTM(units=recurrent_units, dropout=recurrent_dropout, return_sequences=True, name='lstm_layer'))(\n",
        "            spatial_dropout_layer)\n",
        "    elif recurrent_layer_type == \"GRU\":\n",
        "        recurrent_layer = Bidirectional(\n",
        "            GRU(units=recurrent_units, dropout=recurrent_dropout, return_sequences=True, name='gru_layer'))(\n",
        "            spatial_dropout_layer)\n",
        "\n",
        "    global_maxpool_layer = GlobalMaxPool1D()(recurrent_layer)\n",
        "\n",
        "    dense_units = hp.Int(\"units_dense\", min_value=50, max_value=300, step=50)\n",
        "    dense_activation = hp.Choice(\"activation\", [\"relu\", \"selu\", \"elu\"])\n",
        "    dense_layer = Dense(units=dense_units, activation=dense_activation, name='dense_layer')(global_maxpool_layer)\n",
        "\n",
        "    dropout_rate_dense = hp.Float(\"dropout_dense\", min_value=0.1, max_value=0.6, step=0.1)\n",
        "    dropout_layer_dense = Dropout(rate=dropout_rate_dense, name='dropout_dense')(dense_layer)\n",
        "\n",
        "    output_layer = Dense(6, activation=\"sigmoid\", name='output_layer')(dropout_layer_dense)\n",
        "\n",
        "    learning_rate = hp.Float(\"lr\", min_value=0.00001, max_value=0.01, sampling=\"log\")\n",
        "\n",
        "    optimizer_choice = hp.Choice('optimizer', [\"adam\", \"rmsprop\", \"sgd\"])\n",
        "    if optimizer_choice == 'adam':\n",
        "        optimizer = keras.optimizers.Adam(learning_rate=learning_rate)\n",
        "    elif optimizer_choice == 'rmsprop':\n",
        "        optimizer = keras.optimizers.RMSprop(learning_rate=learning_rate)\n",
        "    elif optimizer_choice == 'sgd':\n",
        "        optimizer = keras.optimizers.SGD(learning_rate=learning_rate)\n",
        "\n",
        "    model = Model(inputs=input_layer, outputs=output_layer)\n",
        "    model.compile(optimizer=optimizer,\n",
        "                  loss='binary_crossentropy',\n",
        "                  metrics=['accuracy', f1_metric, precision_metric, recall_metric, auc_metric])\n",
        "\n",
        "    return model\n",
        "\n",
        "build_model(keras_tuner.HyperParameters())"
      ],
      "metadata": {
        "colab": {
          "base_uri": "https://localhost:8080/"
        },
        "id": "5zziE1Eqa4eS",
        "outputId": "63148383-c2b8-42ea-d9fb-92d7bdf17f3c"
      },
      "execution_count": 34,
      "outputs": [
        {
          "output_type": "execute_result",
          "data": {
            "text/plain": [
              "<keras.src.engine.functional.Functional at 0x7c6314868a60>"
            ]
          },
          "metadata": {},
          "execution_count": 34
        }
      ]
    },
    {
      "cell_type": "markdown",
      "source": [
        "## Options"
      ],
      "metadata": {
        "id": "CUz9Sy7zWhcP"
      }
    },
    {
      "cell_type": "code",
      "source": [
        "tuner = keras_tuner.RandomSearch(\n",
        "    hypermodel = build_model,\n",
        "    objective = \"val_loss\",\n",
        "    max_trials = 6,\n",
        "    executions_per_trial = 2,\n",
        "    overwrite = True,\n",
        "    directory=\"/content/drive/My Drive/AML_Progetto/RNN/\",\n",
        "    project_name=\"tuner_rnn\",\n",
        ")\n",
        "\n",
        "tuner.search_space_summary()"
      ],
      "metadata": {
        "colab": {
          "base_uri": "https://localhost:8080/"
        },
        "id": "oKwMC_GWa6t9",
        "outputId": "e71cb566-ccb1-4e19-98fb-2f6378650bac"
      },
      "execution_count": 35,
      "outputs": [
        {
          "output_type": "stream",
          "name": "stdout",
          "text": [
            "Search space summary\n",
            "Default search space size: 10\n",
            "embed_size (Int)\n",
            "{'default': None, 'conditions': [], 'min_value': 100, 'max_value': 400, 'step': 50, 'sampling': 'linear'}\n",
            "spatial_dropout_rate (Float)\n",
            "{'default': 0.1, 'conditions': [], 'min_value': 0.1, 'max_value': 0.6, 'step': 0.1, 'sampling': 'linear'}\n",
            "recurrent_layer (Choice)\n",
            "{'default': 'LSTM', 'conditions': [], 'values': ['LSTM', 'GRU'], 'ordered': False}\n",
            "units_bi (Int)\n",
            "{'default': None, 'conditions': [], 'min_value': 60, 'max_value': 300, 'step': 30, 'sampling': 'linear'}\n",
            "dropout_bi (Float)\n",
            "{'default': 0.1, 'conditions': [], 'min_value': 0.1, 'max_value': 0.6, 'step': 0.1, 'sampling': 'linear'}\n",
            "units_dense (Int)\n",
            "{'default': None, 'conditions': [], 'min_value': 50, 'max_value': 300, 'step': 50, 'sampling': 'linear'}\n",
            "activation (Choice)\n",
            "{'default': 'relu', 'conditions': [], 'values': ['relu', 'selu', 'elu'], 'ordered': False}\n",
            "dropout_dense (Float)\n",
            "{'default': 0.1, 'conditions': [], 'min_value': 0.1, 'max_value': 0.6, 'step': 0.1, 'sampling': 'linear'}\n",
            "lr (Float)\n",
            "{'default': 1e-05, 'conditions': [], 'min_value': 1e-05, 'max_value': 0.01, 'step': None, 'sampling': 'log'}\n",
            "optimizer (Choice)\n",
            "{'default': 'adam', 'conditions': [], 'values': ['adam', 'rmsprop', 'sgd'], 'ordered': False}\n"
          ]
        }
      ]
    },
    {
      "cell_type": "markdown",
      "source": [
        "## Search"
      ],
      "metadata": {
        "id": "OdyScoqLWm_1"
      }
    },
    {
      "cell_type": "code",
      "source": [
        "X_train, x_val, Y_train, y_val = train_test_split(x_train, y_train, test_size=0.2, random_state=42)"
      ],
      "metadata": {
        "id": "BW-7ftKea9Yd"
      },
      "execution_count": 36,
      "outputs": []
    },
    {
      "cell_type": "code",
      "source": [
        "tuner.search(X_train, Y_train, epochs=3, validation_data=(x_val, y_val))"
      ],
      "metadata": {
        "colab": {
          "base_uri": "https://localhost:8080/"
        },
        "id": "linlfT-La_vJ",
        "outputId": "7c7eb934-7728-4a94-f10a-76434b08ccc9"
      },
      "execution_count": null,
      "outputs": [
        {
          "output_type": "stream",
          "name": "stdout",
          "text": [
            "Trial 5 Complete [00h 14m 49s]\n",
            "val_loss: 0.0448587778955698\n",
            "\n",
            "Best val_loss So Far: 0.04381897300481796\n",
            "Total elapsed time: 01h 18m 40s\n",
            "\n",
            "Search: Running Trial #6\n",
            "\n",
            "Value             |Best Value So Far |Hyperparameter\n",
            "325               |400               |embed_size\n",
            "0.4               |0.5               |spatial_dropout_rate\n",
            "LSTM              |LSTM              |recurrent_layer\n",
            "220               |190               |units_bi\n",
            "0.4               |0.4               |dropout_bi\n",
            "100               |200               |units_dense\n",
            "selu              |selu              |activation\n",
            "0.3               |0.4               |dropout_dense\n",
            "0.00035121        |0.00072139        |lr\n",
            "\n",
            "Epoch 1/3\n",
            "3990/3990 [==============================] - 198s 48ms/step - loss: 0.0699 - accuracy: 0.7981 - f1_score: 0.6656 - precision: 0.7743 - recall: 0.5837 - auc: 0.9634 - val_loss: 0.0495 - val_accuracy: 0.9484 - val_f1_score: 0.7211 - val_precision: 0.8620 - val_recall: 0.6197 - val_auc: 0.9815\n",
            "Epoch 2/3\n",
            "3990/3990 [==============================] - 152s 38ms/step - loss: 0.0473 - accuracy: 0.8942 - f1_score: 0.7415 - precision: 0.8147 - recall: 0.6804 - auc: 0.9821 - val_loss: 0.0461 - val_accuracy: 0.9936 - val_f1_score: 0.7426 - val_precision: 0.8466 - val_recall: 0.6614 - val_auc: 0.9825\n",
            "Epoch 3/3\n",
            "3990/3990 [==============================] - 150s 38ms/step - loss: 0.0426 - accuracy: 0.9086 - f1_score: 0.7646 - precision: 0.8274 - recall: 0.7107 - auc: 0.9861 - val_loss: 0.0457 - val_accuracy: 0.9830 - val_f1_score: 0.7581 - val_precision: 0.7965 - val_recall: 0.7232 - val_auc: 0.9828\n",
            "Epoch 1/3\n",
            "3990/3990 [==============================] - 203s 50ms/step - loss: 0.0697 - accuracy: 0.8109 - f1_score: 0.6633 - precision: 0.7901 - recall: 0.5716 - auc: 0.9626 - val_loss: 0.0486 - val_accuracy: 0.9937 - val_f1_score: 0.7371 - val_precision: 0.8221 - val_recall: 0.6681 - val_auc: 0.9829\n",
            "Epoch 2/3\n",
            "  86/3990 [..............................] - ETA: 2:15 - loss: 0.0465 - accuracy: 0.8463 - f1_score: 0.7636 - precision: 0.8472 - recall: 0.6950 - auc: 0.9849"
          ]
        }
      ]
    },
    {
      "cell_type": "markdown",
      "source": [
        "## Results"
      ],
      "metadata": {
        "id": "ZFSkJ8N4Wvst"
      }
    },
    {
      "cell_type": "code",
      "source": [
        "tuner.results_summary()"
      ],
      "metadata": {
        "id": "7nAV6DUYJsaw"
      },
      "execution_count": null,
      "outputs": []
    },
    {
      "cell_type": "code",
      "source": [
        "# Get the top 2 models.\n",
        "models = tuner.get_best_models(num_models=2)\n",
        "model = models[0]\n",
        "model.summary()\n",
        "\n",
        "model.save('/content/drive/My Drive/AML_Progetto/RNN/Best_Model/best_tuned_RNN.h5')"
      ],
      "metadata": {
        "id": "YLyfI8N4J6Nh"
      },
      "execution_count": null,
      "outputs": []
    },
    {
      "cell_type": "markdown",
      "source": [
        "# Train RNN"
      ],
      "metadata": {
        "id": "Dvbo6vj9mfFD"
      }
    },
    {
      "cell_type": "code",
      "source": [
        "check_path = '/content/drive/My Drive/AML_Progetto/RNN/Best_Model/best_RNN_unimb.h5'\n",
        "\n",
        "embed_size = 250\n",
        "batch_size = 32\n",
        "epochs = 3"
      ],
      "metadata": {
        "id": "YeA4xAxjniYL"
      },
      "execution_count": 39,
      "outputs": []
    },
    {
      "cell_type": "markdown",
      "source": [
        "## build model"
      ],
      "metadata": {
        "id": "XyXQXHy_7m7R"
      }
    },
    {
      "cell_type": "code",
      "source": [
        "inp = Input(shape=(max_seq_len, ), name = 'input_layer')\n",
        "embedding_layer = Embedding(max_words, embed_size, name ='embedding_layer')(inp)\n",
        "x = SpatialDropout1D(0.5, name='spatial_dropout')(embedding_layer)\n",
        "x = Bidirectional(LSTM(120, return_sequences=True, dropout = 0.3, name='lstm_layer'))(x)\n",
        "x = GlobalMaxPool1D(name = 'global_max_pool')(x)\n",
        "x = Dense(125, activation=\"selu\", name = 'dense_layer')(x)\n",
        "x = Dropout(0.3, name = 'dropout_layer')(x)\n",
        "output = Dense(6, activation=\"sigmoid\", name = 'output_layer')(x)\n",
        "\n",
        "model = Model(inputs=inp, outputs=output)"
      ],
      "metadata": {
        "id": "HFnpQpE_g5eE"
      },
      "execution_count": 40,
      "outputs": []
    },
    {
      "cell_type": "code",
      "source": [
        "model.summary()"
      ],
      "metadata": {
        "colab": {
          "base_uri": "https://localhost:8080/"
        },
        "id": "42571EyiTkLH",
        "outputId": "bf82be7b-e226-4cf9-b692-ffa67639886a"
      },
      "execution_count": 41,
      "outputs": [
        {
          "output_type": "stream",
          "name": "stdout",
          "text": [
            "Model: \"model_2\"\n",
            "_________________________________________________________________\n",
            " Layer (type)                Output Shape              Param #   \n",
            "=================================================================\n",
            " input_layer (InputLayer)    [(None, 200)]             0         \n",
            "                                                                 \n",
            " embedding_layer (Embedding  (None, 200, 250)          5000000   \n",
            " )                                                               \n",
            "                                                                 \n",
            " spatial_dropout (SpatialDr  (None, 200, 250)          0         \n",
            " opout1D)                                                        \n",
            "                                                                 \n",
            " bidirectional_2 (Bidirecti  (None, 200, 240)          356160    \n",
            " onal)                                                           \n",
            "                                                                 \n",
            " global_max_pool (GlobalMax  (None, 240)               0         \n",
            " Pooling1D)                                                      \n",
            "                                                                 \n",
            " dense_layer (Dense)         (None, 125)               30125     \n",
            "                                                                 \n",
            " dropout_layer (Dropout)     (None, 125)               0         \n",
            "                                                                 \n",
            " output_layer (Dense)        (None, 6)                 756       \n",
            "                                                                 \n",
            "=================================================================\n",
            "Total params: 5387041 (20.55 MB)\n",
            "Trainable params: 5387041 (20.55 MB)\n",
            "Non-trainable params: 0 (0.00 Byte)\n",
            "_________________________________________________________________\n"
          ]
        }
      ]
    },
    {
      "cell_type": "code",
      "source": [
        "model.compile(optimizer = keras.optimizers.Adam(learning_rate = 0.0007213894202014545),\n",
        "              loss='binary_crossentropy',\n",
        "              metrics=['accuracy', precision_metric, recall_metric, auc_metric])"
      ],
      "metadata": {
        "id": "VK2zRHp6O6aU"
      },
      "execution_count": 42,
      "outputs": []
    },
    {
      "cell_type": "markdown",
      "source": [
        "## Callbacks"
      ],
      "metadata": {
        "id": "mkctBWlT7sfr"
      }
    },
    {
      "cell_type": "code",
      "source": [
        "checkpoint = ModelCheckpoint(check_path, monitor='val_loss', verbose=1, save_best_only=True, mode='min')\n",
        "callbacks_list = [checkpoint]"
      ],
      "metadata": {
        "id": "J5orr0307q9C"
      },
      "execution_count": 43,
      "outputs": []
    },
    {
      "cell_type": "markdown",
      "source": [
        "## fit"
      ],
      "metadata": {
        "id": "uzYgwU-J7p9Q"
      }
    },
    {
      "cell_type": "code",
      "source": [
        "history = model.fit(\n",
        "    x_train,\n",
        "    y_train,\n",
        "    batch_size = batch_size,\n",
        "    epochs=epochs,\n",
        "    callbacks=callbacks_list,\n",
        "    class_weight=dict(enumerate(class_weights_based_on_frequencies)),\n",
        "    validation_split=0.2)"
      ],
      "metadata": {
        "colab": {
          "base_uri": "https://localhost:8080/"
        },
        "id": "Lc06c3PjngqH",
        "outputId": "05a08447-1bae-4bda-8119-4c62f60e1a22"
      },
      "execution_count": 45,
      "outputs": [
        {
          "output_type": "stream",
          "name": "stdout",
          "text": [
            "Epoch 1/3\n",
            "3989/3990 [============================>.] - ETA: 0s - loss: 0.0176 - accuracy: 0.8766 - precision: 0.8350 - recall: 0.7337 - auc: 0.9889\n",
            "Epoch 1: val_loss improved from 0.04521 to 0.04479, saving model to /content/drive/My Drive/AML_Progetto/RNN/Best_Model/best_RNN_unimb.h5\n",
            "3990/3990 [==============================] - 104s 26ms/step - loss: 0.0176 - accuracy: 0.8766 - precision: 0.8350 - recall: 0.7337 - auc: 0.9889 - val_loss: 0.0448 - val_accuracy: 0.9747 - val_precision: 0.7913 - val_recall: 0.7316 - val_auc: 0.9814\n",
            "Epoch 2/3\n",
            "3990/3990 [==============================] - ETA: 0s - loss: 0.0161 - accuracy: 0.8384 - precision: 0.8433 - recall: 0.7577 - auc: 0.9902\n",
            "Epoch 2: val_loss did not improve from 0.04479\n",
            "3990/3990 [==============================] - 97s 24ms/step - loss: 0.0161 - accuracy: 0.8384 - precision: 0.8433 - recall: 0.7577 - auc: 0.9902 - val_loss: 0.0480 - val_accuracy: 0.7607 - val_precision: 0.7759 - val_recall: 0.7331 - val_auc: 0.9768\n",
            "Epoch 3/3\n",
            "3990/3990 [==============================] - ETA: 0s - loss: 0.0148 - accuracy: 0.7746 - precision: 0.8487 - recall: 0.7742 - auc: 0.9913\n",
            "Epoch 3: val_loss did not improve from 0.04479\n",
            "3990/3990 [==============================] - 100s 25ms/step - loss: 0.0148 - accuracy: 0.7746 - precision: 0.8487 - recall: 0.7742 - auc: 0.9913 - val_loss: 0.0480 - val_accuracy: 0.8976 - val_precision: 0.8056 - val_recall: 0.7007 - val_auc: 0.9756\n"
          ]
        }
      ]
    },
    {
      "cell_type": "code",
      "source": [
        "plot_history(history)"
      ],
      "metadata": {
        "id": "qZsYGfCUtEDr",
        "colab": {
          "base_uri": "https://localhost:8080/",
          "height": 607
        },
        "outputId": "231ffd8e-588a-4cf5-c5e9-959467def9b6"
      },
      "execution_count": 46,
      "outputs": [
        {
          "output_type": "display_data",
          "data": {
            "text/plain": [
              "<Figure size 1200x600 with 2 Axes>"
            ],
            "image/png": "[encoded data removed]"
          },
          "metadata": {}
        }
      ]
    },
    {
      "cell_type": "markdown",
      "source": [
        "# Test RNN"
      ],
      "metadata": {
        "id": "4R43hwSEfhhR"
      }
    },
    {
      "cell_type": "markdown",
      "source": [
        "## Load model"
      ],
      "metadata": {
        "id": "Bv06_RIirbgQ"
      }
    },
    {
      "cell_type": "code",
      "source": [
        "model = load_model('/content/drive/My Drive/AML_Progetto/RNN/Best_Model/best_RNN_tuned.h5')"
      ],
      "metadata": {
        "id": "SeWEmIL63Pjr"
      },
      "execution_count": 49,
      "outputs": []
    },
    {
      "cell_type": "markdown",
      "source": [
        "## Predict"
      ],
      "metadata": {
        "id": "hnL6ykcWrcyi"
      }
    },
    {
      "cell_type": "code",
      "source": [
        "y_pred = model.predict(x_test)"
      ],
      "metadata": {
        "id": "UK5mO23BtzKc",
        "colab": {
          "base_uri": "https://localhost:8080/"
        },
        "outputId": "391e7adf-d85c-4011-e821-03d64e9436d4"
      },
      "execution_count": 50,
      "outputs": [
        {
          "output_type": "stream",
          "name": "stdout",
          "text": [
            "2000/2000 [==============================] - 14s 7ms/step\n"
          ]
        }
      ]
    },
    {
      "cell_type": "markdown",
      "source": [
        "## Classification Report"
      ],
      "metadata": {
        "id": "CTp1cmumrmdi"
      }
    },
    {
      "cell_type": "code",
      "source": [
        "binary_predictions = (y_pred > 0.5).astype(int)\n",
        "print(classification_report(y_test, binary_predictions, target_names=label_columns))"
      ],
      "metadata": {
        "id": "3TSW6er52sYE",
        "colab": {
          "base_uri": "https://localhost:8080/"
        },
        "outputId": "5a174283-1bd2-4698-e01e-a7a114ee06ce"
      },
      "execution_count": 51,
      "outputs": [
        {
          "output_type": "stream",
          "name": "stdout",
          "text": [
            "               precision    recall  f1-score   support\n",
            "\n",
            "        toxic       0.56      0.85      0.68      6090\n",
            " severe_toxic       0.33      0.53      0.41       367\n",
            "      obscene       0.62      0.79      0.69      3691\n",
            "       threat       0.52      0.38      0.44       211\n",
            "       insult       0.61      0.71      0.65      3427\n",
            "identity_hate       0.60      0.53      0.56       712\n",
            "\n",
            "    micro avg       0.58      0.77      0.66     14498\n",
            "    macro avg       0.54      0.63      0.57     14498\n",
            " weighted avg       0.58      0.77      0.66     14498\n",
            "  samples avg       0.07      0.07      0.07     14498\n",
            "\n"
          ]
        },
        {
          "output_type": "stream",
          "name": "stderr",
          "text": [
            "/usr/local/lib/python3.10/dist-packages/sklearn/metrics/_classification.py:1344: UndefinedMetricWarning: Precision and F-score are ill-defined and being set to 0.0 in samples with no predicted labels. Use `zero_division` parameter to control this behavior.\n",
            "  _warn_prf(average, modifier, msg_start, len(result))\n",
            "/usr/local/lib/python3.10/dist-packages/sklearn/metrics/_classification.py:1344: UndefinedMetricWarning: Recall and F-score are ill-defined and being set to 0.0 in samples with no true labels. Use `zero_division` parameter to control this behavior.\n",
            "  _warn_prf(average, modifier, msg_start, len(result))\n"
          ]
        }
      ]
    },
    {
      "cell_type": "markdown",
      "source": [
        "## Confusion Matrix"
      ],
      "metadata": {
        "id": "3Z_-5DJcroxJ"
      }
    },
    {
      "cell_type": "code",
      "source": [
        "from sklearn.metrics import multilabel_confusion_matrix\n",
        "import seaborn as sns\n",
        "conf_matrix = multilabel_confusion_matrix(y_test, binary_predictions)\n",
        "\n",
        "for i, matrix in enumerate(conf_matrix):\n",
        "    row_sums = matrix.sum(axis=1, keepdims=True)\n",
        "\n",
        "    # Normalize the confusion matrix to get percentages\n",
        "    matrix = matrix / row_sums.astype(float) * 100 if row_sums.any() else matrix\n",
        "\n",
        "    sns.heatmap(matrix, annot=True, fmt=\".2f\", cmap=\"Blues\", cbar=False)\n",
        "    plt.xlabel(\"Predicted Label\")\n",
        "    plt.ylabel(\"True Label\")\n",
        "    plt.title(f\"Confusion Matrix - Class {label_columns[i]} (Percentage)\")\n",
        "    plt.show()"
      ],
      "metadata": {
        "colab": {
          "base_uri": "https://localhost:8080/",
          "height": 1000
        },
        "id": "Rp1_RU481mLO",
        "outputId": "0fbb1849-40fa-43aa-f5ec-471e0d6a6cfe"
      },
      "execution_count": 52,
      "outputs": [
        {
          "output_type": "display_data",
          "data": {
            "text/plain": [
              "<Figure size 640x480 with 1 Axes>"
            ],
            "image/png": "[encoded data removed]"
          },
          "metadata": {}
        },
        {
          "output_type": "display_data",
          "data": {
            "text/plain": [
              "<Figure size 640x480 with 1 Axes>"
            ],
            "image/png": "[encoded data removed]"
          },
          "metadata": {}
        },
        {
          "output_type": "display_data",
          "data": {
            "text/plain": [
              "<Figure size 640x480 with 1 Axes>"
            ],
            "image/png": "[encoded data removed]"
          },
          "metadata": {}
        },
        {
          "output_type": "display_data",
          "data": {
            "text/plain": [
              "<Figure size 640x480 with 1 Axes>"
            ],
            "image/png": "[encoded data removed]"
          },
          "metadata": {}
        },
        {
          "output_type": "display_data",
          "data": {
            "text/plain": [
              "<Figure size 640x480 with 1 Axes>"
            ],
            "image/png": "[encoded data removed]"
          },
          "metadata": {}
        },
        {
          "output_type": "display_data",
          "data": {
            "text/plain": [
              "<Figure size 640x480 with 1 Axes>"
            ],
            "image/png": "[encoded data removed]"
          },
          "metadata": {}
        }
      ]
    },
    {
      "cell_type": "markdown",
      "source": [
        "# Scartate"
      ],
      "metadata": {
        "id": "OmnU9LiO-NSR"
      }
    },
    {
      "cell_type": "markdown",
      "source": [
        "## Undersampling clean"
      ],
      "metadata": {
        "id": "uqFO-WmH-gVk"
      }
    },
    {
      "cell_type": "markdown",
      "source": [
        "da mettere nella sezione Dataset, dopo la sezione **Exploration**, nel caso si voglia testare il modell diminuendo la classe clean"
      ],
      "metadata": {
        "id": "qP8SAQOD-l_w"
      }
    },
    {
      "cell_type": "code",
      "source": [
        "train_df[label_columns].sum().sort_values()\n",
        "\n",
        "# Create subsets based on toxic and clean comments\n",
        "train_toxic = train_df[train_df[label_columns].sum(axis=1) > 0]\n",
        "\n",
        "# Randomly sample 16225 clean comments\n",
        "train_clean = train_df[train_df[label_columns].sum(axis=1) == 0]\n",
        "train_clean_sampled = train_clean.sample(n = 16225, random_state = 42)\n",
        "\n",
        "# Combine the toxic and sampled clean comments\n",
        "train_df = pd.concat([train_toxic, train_clean_sampled], axis=0)\n",
        "\n",
        "# Shuffle the data to avoid any order bias during training\n",
        "train_df = train_df.sample(frac = 1, random_state = 42)\n",
        "\n",
        "print(\"train toxic: \", train_toxic.shape)\n",
        "print(\"train clean: \", train_clean_sampled.shape)\n",
        "print(\"new train: \", train_df.shape)"
      ],
      "metadata": {
        "id": "YSlHLEFU-jD_"
      },
      "execution_count": null,
      "outputs": []
    },
    {
      "cell_type": "markdown",
      "source": [
        "## Data augmentation"
      ],
      "metadata": {
        "id": "fsNBPGkq-RSr"
      }
    },
    {
      "cell_type": "markdown",
      "source": [
        "da sperimentare nella sezione dataset, prima di **Labels**"
      ],
      "metadata": {
        "id": "IAxNQFfB-Y3k"
      }
    },
    {
      "cell_type": "code",
      "source": [
        "%pip install nlpaug\n",
        "import nlpaug\n",
        "import nlpaug.augmenter.word as naw\n",
        "from tqdm import tqdm\n",
        "# Crea un oggetto di augumentation per sinonimi\n",
        "aug = naw.SynonymAug(aug_src='wordnet', aug_max=8)"
      ],
      "metadata": {
        "id": "qHsiRrHk-T0I"
      },
      "execution_count": null,
      "outputs": []
    },
    {
      "cell_type": "code",
      "source": [
        "# DataFrame contenente le righe di train_df per cui 'threat' è uguale a 1\n",
        "subset_text_minority = train_df[(train_df['threat'] == 1) | (train_df['identity_hate'] == 1) & (train_df['toxic'] == 0)]\n",
        "\n",
        "# Lista per contenere i dati aumentati\n",
        "augmented_text_minority = []\n",
        "\n",
        "# Applica la data augmentation ai dati di testo delle classi minoritarie\n",
        "for i in tqdm(range(subset_text_minority.shape[0]), desc='tqdm() Progress Bar'):\n",
        "    row = subset_text_minority.iloc[i]\n",
        "    text = row['comment_text']\n",
        "    label_values = row[label_columns].values  # Conserva i valori delle label\n",
        "    # Aumenta il testo per 10 volte\n",
        "    augmented_data = [{'id': f\"{row['id']}_aug_{j}\", 'comment_text': aug.augment(text), **dict(zip(label_columns, label_values))} for j in range(10)]\n",
        "    augmented_text_minority.extend(augmented_data)\n",
        "\n",
        "augmented_df_minority = pd.DataFrame(augmented_text_minority)\n",
        "train_df = pd.concat([train_df, augmented_df_minority], ignore_index=True)"
      ],
      "metadata": {
        "id": "RFFfLcWP-Ube"
      },
      "execution_count": null,
      "outputs": []
    },
    {
      "cell_type": "code",
      "source": [
        "# DataFrame contenente le righe di train_df per cui 'threat' è uguale a 1\n",
        "subset_text_minority = train_df[(train_df['severe_toxic'] == 1)]\n",
        "\n",
        "# Lista per contenere i dati aumentati\n",
        "augmented_text_minority = []\n",
        "\n",
        "# Applica la data augmentation ai dati di testo delle classi minoritarie\n",
        "for i in tqdm(range(subset_text_minority.shape[0]), desc='tqdm() Progress Bar'):\n",
        "    row = subset_text_minority.iloc[i]\n",
        "    text = row['comment_text']\n",
        "    label_values = row[label_columns].values  # Conserva i valori delle label\n",
        "    # Aumenta il testo per 10 volte\n",
        "    augmented_data = [{'id': f\"{row['id']}_aug_{j}\", 'comment_text': aug.augment(text), **dict(zip(label_columns, label_values))} for j in range(2)]\n",
        "    augmented_text_minority.extend(augmented_data)\n",
        "\n",
        "augmented_df_minority = pd.DataFrame(augmented_text_minority)\n",
        "train_df = pd.concat([train_df, augmented_df_minority], ignore_index=True)"
      ],
      "metadata": {
        "id": "8AXmOZpdDATB"
      },
      "execution_count": null,
      "outputs": []
    },
    {
      "cell_type": "code",
      "source": [
        "subset_labels = train_df[label_columns]\n",
        "class_frequencies = subset_labels.sum(axis=0)\n",
        "class_weights_based_on_frequencies = class_frequencies.sum() / (class_frequencies * len(class_frequencies))\n",
        "\n",
        "class_weights_based_on_frequencies"
      ],
      "metadata": {
        "id": "vTG5UI-x-XLf"
      },
      "execution_count": null,
      "outputs": []
    },
    {
      "cell_type": "markdown",
      "source": [
        "## Lemmatization"
      ],
      "metadata": {
        "id": "Pe6AEw4GsBwU"
      }
    },
    {
      "cell_type": "code",
      "source": [
        "import os\n",
        "import pandas as pd\n",
        "import nltk\n",
        "nltk.download('punkt')\n",
        "nltk.download('wordnet')\n",
        "from nltk.tokenize import word_tokenize\n",
        "from nltk.stem import WordNetLemmatizer\n",
        "from nltk.corpus import stopwords"
      ],
      "metadata": {
        "id": "HR6VCtUzsFqG"
      },
      "execution_count": null,
      "outputs": []
    },
    {
      "cell_type": "code",
      "source": [
        "def lemmatize_text(text):\n",
        "    # Tokenize the text\n",
        "    tokens = word_tokenize(text)\n",
        "\n",
        "    # Initialize lemmatizer\n",
        "    lemmatizer = WordNetLemmatizer()\n",
        "\n",
        "    # Lemmatize each token\n",
        "    lemmatized_tokens = [lemmatizer.lemmatize(token) for token in tokens]\n",
        "\n",
        "    # Join the lemmatized tokens back into a text\n",
        "    lemmatized_text = ' '.join(lemmatized_tokens)\n",
        "\n",
        "    return lemmatized_text"
      ],
      "metadata": {
        "id": "IztbdKa5sMpQ"
      },
      "execution_count": null,
      "outputs": []
    },
    {
      "cell_type": "code",
      "source": [
        "train_df['comment_text'] = train_df['comment_text'].map(lambda com: lemmatize_text(com))"
      ],
      "metadata": {
        "id": "ZWSGl7NEsO4R"
      },
      "execution_count": null,
      "outputs": []
    },
    {
      "cell_type": "markdown",
      "source": [
        "## Embedding"
      ],
      "metadata": {
        "id": "OfUlLUxpje9v"
      }
    },
    {
      "cell_type": "code",
      "source": [
        "def load_glove_embeddings(embedding_file):\n",
        "    embeddings_index = {}\n",
        "    with open(embedding_file, 'r', encoding='utf-8') as f:\n",
        "        lines = f.readlines()\n",
        "        for line in tqdm(lines, desc='Loading GloVe Embeddings', unit='lines'):\n",
        "            values = line.split()\n",
        "            word = values[0]\n",
        "            try:\n",
        "                coefs = np.asarray(values[1:], dtype='float32')\n",
        "                embeddings_index[word] = coefs\n",
        "            except ValueError:\n",
        "                # Se non riesce a convertire in float, salta questa riga\n",
        "                continue\n",
        "    return embeddings_index\n",
        "\n",
        "glove_file = '/content/drive/My Drive/AML_Progetto/RNN/GloVe/glove.840B.300d.txt'\n",
        "glove_embeddings = load_glove_embeddings(glove_file)"
      ],
      "metadata": {
        "id": "OMj7YieDjhAU"
      },
      "execution_count": null,
      "outputs": []
    },
    {
      "cell_type": "code",
      "source": [
        "embedding_dim = 300  # in base al file caricato\n",
        "embedding_matrix = np.zeros((len(word_index) + 1, embedding_dim))\n",
        "\n",
        "for word, i in word_index.items():\n",
        "    embedding_vector = glove_embeddings.get(word)\n",
        "    if embedding_vector is not None:\n",
        "        embedding_matrix[i] = embedding_vector"
      ],
      "metadata": {
        "id": "XY-YoBwbkZeg"
      },
      "execution_count": null,
      "outputs": []
    },
    {
      "cell_type": "code",
      "source": [
        "embedding_layer = Embedding(\n",
        "    input_dim=len(word_index) + 1,\n",
        "    output_dim = embed_size,\n",
        "    weights=[embedding_matrix],\n",
        "    input_length=max_seq_len,\n",
        "    trainable = False,\n",
        "    name ='embedding_layer'\n",
        ")(inp)"
      ],
      "metadata": {
        "id": "bBRO1mSGO3TM"
      },
      "execution_count": null,
      "outputs": []
    }
  ]
}